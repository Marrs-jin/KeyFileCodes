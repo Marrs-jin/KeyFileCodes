{
 "cells": [
  {
   "cell_type": "code",
   "execution_count": 1,
   "metadata": {},
   "outputs": [],
   "source": [
    "\n",
    "#Read in file paths based on element name as it is saved. \n",
    "#Verify skiprows for each element"
   ]
  },
  {
   "cell_type": "code",
   "execution_count": 2,
   "metadata": {},
   "outputs": [],
   "source": [
    "#%run -i LoadFunctions.py"
   ]
  },
  {
   "cell_type": "code",
   "execution_count": 2,
   "metadata": {},
   "outputs": [],
   "source": [
    "import numpy as np\n",
    "import pandas as pd\n",
    "from fractions import Fraction\n",
    "import xlsxwriter\n",
    "import decimal\n",
    "from decimal import *\n",
    "import re\n",
    "from modsigfig import round #does this need to be done \n",
    "from fractions import Fraction\n",
    "pd.set_option('display.max_rows', 500)\n",
    "getcontext().prec = 20"
   ]
  },
  {
   "cell_type": "code",
   "execution_count": 1,
   "metadata": {},
   "outputs": [
    {
     "name": "stdout",
     "output_type": "stream",
     "text": [
      "Element name in files:Ab1\n"
     ]
    }
   ],
   "source": [
    "element = input('Element name in files:')\n",
    "skiprows_data = 0 #for database\n",
    "skiprows_mats = 1 #for datapol\n",
    "#dataname = \"Data\\%s\\database%s.txt\" % (element,element) #used in getting (#) format of erros\n",
    "matname = \"Data\\%s\\datapol%s.txt\" % (element, element) #the rest of the data\n",
    "#checkratesname = \"Data\\\\%s\\\\rates1.txt\" % element\n",
    "#checklifesname = \"Data\\\\%s\\\\rates2.txt\" % element"
   ]
  },
  {
   "cell_type": "code",
   "execution_count": 5,
   "metadata": {},
   "outputs": [],
   "source": [
    "#Reads in data"
   ]
  },
  {
   "cell_type": "code",
   "execution_count": 3,
   "metadata": {},
   "outputs": [],
   "source": [
    "# database = pd.read_csv(dataname, sep = '\\s+', engine = 'python', header = None, skiprows = skiprows_data)\n",
    "# real_mats = []\n",
    "# for d, i in enumerate(database[5]):\n",
    "#     if i == None:\n",
    "#         real_mats.append(database[4][d])\n",
    "#     else:\n",
    "#         real_mats.append(i)\n",
    "# database[5] = real_mats\n",
    "# database.drop(columns = [0,1,2,3,4], inplace = True)\n",
    "# database\n",
    "# columns = ['matrix']\n",
    "# database.columns = columns\n",
    "# database[['matrix', 'unc']] = database['matrix'].str.split('(', expand = True)\n",
    "# database[['unc', 'trash']] = database['unc'].str.split(')', expand = True)\n",
    "# database.drop('trash',axis = 1, inplace = True)\n",
    "\n",
    "#have to read in as str or else pandas does weird rounding. Convert numbers back to float after\n",
    "ele = pd.read_csv(matname, sep = ',', engine = 'python', header = None, skiprows = skiprows_mats, dtype = 'str')\n",
    "cutoff_index = ele[ele[1].isnull()].index[0]\n",
    "mats = ele[:cutoff_index]\n",
    "energies = ele[cutoff_index+1:]\n",
    "\n",
    "columns = ['start', 'end','matrix', 'unc']\n",
    "mats.columns = columns\n",
    "#mats['old_unc'] = database['unc']\n",
    "columns2 = ['level', 'ene', 'unc', 'modif' ]\n",
    "energies.columns = columns2\n",
    "energies.reset_index(inplace = True, drop = True)\n",
    "mats.reset_index(inplace = True,drop = True)"
   ]
  },
  {
   "cell_type": "code",
   "execution_count": 4,
   "metadata": {},
   "outputs": [],
   "source": [
    "#Processing of mats file off of end state, since ground state will not decay\n",
    "#creates dataframe of all possible beginning states\n",
    "def split(word): \n",
    "    return list(word) \n",
    "\n",
    "all_names = []\n",
    "#splits the original n+l number into components\n",
    "for i in mats['end']:\n",
    "    nm = split(i)\n",
    "    name = [string for string in nm if string != \" \"]\n",
    "    all_names.append(name)\n",
    "\n",
    "# fg_hold = []\n",
    "# for i in range(len(all_names)):\n",
    "#     if 'f' in all_names[i]: \n",
    "#         #print(all_names[i])\n",
    "#         fg_hold.append(i)\n",
    "   \n",
    "# all_names = np.delete(all_names, fg_hold).tolist()\n",
    "#changes s, p, d into 0, 1, 2\n",
    "for i in all_names:\n",
    "    if 's' in i:\n",
    "        i[i.index('s')] = 0\n",
    "    elif 'p' in i:\n",
    "        i[i.index('p')] = 1\n",
    "    elif 'd' in i:\n",
    "        i[i.index('d')] = 2\n",
    "    elif 'f' in i:\n",
    "        i[i.index('f')] = 3\n",
    "    elif 'g' in i:\n",
    "        i[i.index('g')] = 4\n",
    "    \n",
    "#changes n element into integer, whether its 1 or 2 digits\n",
    "for i in all_names:\n",
    "    if isinstance(i[1], str): #means it hasnt been changed to 0,1,2 which means its a 2 digit n value. i.e. 12\n",
    "        i[0] = int(i[0] + i[1])\n",
    "        del i[1]\n",
    "    else:\n",
    "        i[0] = int(i[0])\n",
    "\n",
    "#converts last 3 numbers into 1 j value\n",
    "for i in all_names:\n",
    "    i[2] = int(i[2]) / int(i[4])\n",
    "    del i[4]\n",
    "    del i[3]\n",
    "\n",
    "#adds back in matrix elements and uncertainty, starts column titles\n",
    "for count, i in enumerate(all_names):\n",
    "    i.append(mats.matrix[count])\n",
    "    i.append(mats.unc[count])\n",
    "columns = ['n','l','j','m','unc']\n",
    "ends = pd.DataFrame(all_names, columns=columns)"
   ]
  },
  {
   "cell_type": "code",
   "execution_count": 9,
   "metadata": {},
   "outputs": [],
   "source": [
    "#gets decay state values"
   ]
  },
  {
   "cell_type": "code",
   "execution_count": 5,
   "metadata": {},
   "outputs": [],
   "source": [
    "#Processing of mats file off of start state,\n",
    "#creates dataframe of some decay states. Not all of them, as n is not included\n",
    "\n",
    "all_names = []\n",
    "#splits the original n+l number into components\n",
    "for i in mats['start']:\n",
    "    nm = split(i)\n",
    "    name = [string for string in nm if string != \" \"]\n",
    "    all_names.append(name)\n",
    " \n",
    "\n",
    "#changes s, p, d into 0, 1, 2\n",
    "for i in all_names:\n",
    "    if 's' in i:\n",
    "        i[i.index('s')] = 0\n",
    "    elif 'p' in i:\n",
    "        i[i.index('p')] = 1\n",
    "    elif 'd' in i:\n",
    "        i[i.index('d')] = 2\n",
    "    elif 'f' in i:\n",
    "        i[i.index('f')] = 3\n",
    "    elif 'g' in i:\n",
    "        i[i.index('g')] = 4\n",
    "\n",
    "#changes n element into integer, whether its 1 or 2 digits\n",
    "for i in all_names:\n",
    "    if isinstance(i[1], str): #means it hasnt been changed to 0,1,2 which means its a 2 digit n value. i.e. 12\n",
    "        i[0] = int(i[0] + i[1])\n",
    "        del i[1]\n",
    "    else:\n",
    "        i[0] = int(i[0])\n",
    "\n",
    "#converts last 3 numbers into 1 j value\n",
    "for i in all_names:\n",
    "    i[2] = int(i[2]) / int(i[4])\n",
    "    del i[4]\n",
    "    del i[3]\n",
    "\n",
    "#adds back in matrix elements and uncertainty, starts column titles\n",
    "for count, i in enumerate(all_names):\n",
    "    i.append(mats.matrix[count])\n",
    "    i.append(mats.unc[count])\n",
    "columns = ['n','l','j','m','unc']\n",
    "starts = pd.DataFrame(all_names, columns=columns)"
   ]
  },
  {
   "cell_type": "code",
   "execution_count": 11,
   "metadata": {},
   "outputs": [],
   "source": [
    "#gets energy values"
   ]
  },
  {
   "cell_type": "code",
   "execution_count": 6,
   "metadata": {},
   "outputs": [],
   "source": [
    "all_names = []\n",
    "#splits the original n+l number into components\n",
    "for i in energies['level']:\n",
    "    nm = split(i)\n",
    "    name = [string for string in nm if string != \" \"]\n",
    "    all_names.append(name)\n",
    " \n",
    "\n",
    "#changes s, p, d into 0, 1, 2\n",
    "for i in all_names:\n",
    "    if 's' in i:\n",
    "        i[i.index('s')] = 0\n",
    "    elif 'p' in i:\n",
    "        i[i.index('p')] = 1\n",
    "    elif 'd' in i:\n",
    "        i[i.index('d')] = 2\n",
    "    elif 'f' in i:\n",
    "        i[i.index('f')] = 3\n",
    "    elif 'g' in i:\n",
    "        i[i.index('g')] = 4\n",
    "\n",
    "#changes n element into integer, whether its 1 or 2 digits\n",
    "for i in all_names:\n",
    "    if isinstance(i[1], str): #means it hasnt been changed to 0,1,2 which means its a 2 digit n value. i.e. 12\n",
    "        i[0] = int(i[0] + i[1])\n",
    "        del i[1]\n",
    "    else:\n",
    "        i[0] = int(i[0])\n",
    "\n",
    "#converts last 3 numbers into 1 j value\n",
    "for i in all_names:\n",
    "    i[2] = int(i[2]) / int(i[4])\n",
    "    del i[4]\n",
    "    del i[3]\n",
    "\n",
    "#adds back in matrix elements and uncertainty, starts column titles\n",
    "for count, i in enumerate(all_names):\n",
    "    i.append(energies.ene[count])\n",
    "    i.append(energies.unc[count])\n",
    "    i.append(energies.modif[count])\n",
    "columns = ['n','l','j','ene','unc','modif']\n",
    "n_ene = pd.DataFrame(all_names, columns=columns)\n",
    "nist = n_ene.copy()"
   ]
  },
  {
   "cell_type": "code",
   "execution_count": 13,
   "metadata": {},
   "outputs": [],
   "source": [
    "#combines starts, decays and energies into one dataframe \"all_state\""
   ]
  },
  {
   "cell_type": "code",
   "execution_count": 7,
   "metadata": {},
   "outputs": [],
   "source": [
    "Initial_en = []\n",
    "Final_en = []\n",
    "Initial_unc = []\n",
    "Final_unc = []\n",
    "decay = []\n",
    "hold = []\n",
    "for i in range(len(starts)):\n",
    "    for j in range(len(nist)):\n",
    "        if starts['n'][i] == nist['n'][j] and starts['j'][i] == nist['j'][j] and starts['l'][i] == nist['l'][j]:\n",
    "            Initial_en.append(nist['ene'][j])\n",
    "            Initial_unc.append(nist['unc'][j])\n",
    "            hold.append([[starts['n'][i],starts['l'][i],starts['j'][i]], starts['m'][i], starts['unc'][i],\n",
    "                         [ends['n'][i], ends['l'][i], ends['j'][i]],\n",
    "                         nist['ene'][j],nist['unc'][j]])\n",
    "        elif ends['n'][i] == nist['n'][j] and ends['j'][i] == nist['j'][j] and ends['l'][i] == nist['l'][j]:\n",
    "            Final_en.append(nist['ene'][j])\n",
    "            Final_unc.append(nist['unc'][j])\n",
    "hold = pd.DataFrame(hold, columns = ['Initial', 'matrix', 'mat_unc', 'Decay', 'Ei', 'Ei_unc'])\n",
    "hold['Ef'] = Final_en\n",
    "hold['Ef_unc'] = Final_unc\n",
    "columns = ['Initial', 'Decay', 'matrix', 'Ei', 'Ef', 'mat_unc', 'Ei_unc', 'Ef_unc']\n",
    "all_state = hold[columns]\n",
    "\n",
    "# unc_hold = []\n",
    "# for i in all_state['Ef_unc']:\n",
    "#     unc_hold.append(\"{:.2e}\".format(i))\n",
    "# all_state['Ef_unc'] = unc_hold\n",
    "#all_state['old_unc'] = database['unc']"
   ]
  },
  {
   "cell_type": "code",
   "execution_count": 8,
   "metadata": {},
   "outputs": [
    {
     "name": "stderr",
     "output_type": "stream",
     "text": [
      "<ipython-input-8-9ea9f60e4678>:8: SettingWithCopyWarning: \n",
      "A value is trying to be set on a copy of a slice from a DataFrame.\n",
      "Try using .loc[row_indexer,col_indexer] = value instead\n",
      "\n",
      "See the caveats in the documentation: https://pandas.pydata.org/pandas-docs/stable/user_guide/indexing.html#returning-a-view-versus-a-copy\n",
      "  all_state['modif'] = ''\n"
     ]
    }
   ],
   "source": [
    "#appends the nist modification value ('' or '*') of the initial/final state to all _state. If either has '*' all-state does too\n",
    "mod_hold = []\n",
    "for i in range(len(all_state)):\n",
    "    mod_initial = nist[(nist['n'] == all_state.Initial[i][0]) & (nist['l'] == all_state.Initial[i][1]) & (nist['j'] == all_state.Initial[i][2])]['modif'].values[0]\n",
    "    mod_final = nist[(nist['n'] == all_state.Decay[i][0]) & (nist['l'] == all_state.Decay[i][1]) & (nist['j'] == all_state.Decay[i][2])]['modif'].values[0]\n",
    "    mod_hold.append((mod_initial, mod_final))\n",
    "    \n",
    "all_state['modif'] = ''\n",
    "for i in range(len(mod_hold)):\n",
    "    if '*' in mod_hold[i]:\n",
    "        all_state.loc[i, 'modif'] = '*'\n",
    "    #mod_final = "
   ]
  },
  {
   "cell_type": "code",
   "execution_count": 9,
   "metadata": {},
   "outputs": [
    {
     "data": {
      "text/html": [
       "<div>\n",
       "<style scoped>\n",
       "    .dataframe tbody tr th:only-of-type {\n",
       "        vertical-align: middle;\n",
       "    }\n",
       "\n",
       "    .dataframe tbody tr th {\n",
       "        vertical-align: top;\n",
       "    }\n",
       "\n",
       "    .dataframe thead th {\n",
       "        text-align: right;\n",
       "    }\n",
       "</style>\n",
       "<table border=\"1\" class=\"dataframe\">\n",
       "  <thead>\n",
       "    <tr style=\"text-align: right;\">\n",
       "      <th></th>\n",
       "      <th>Initial</th>\n",
       "      <th>Decay</th>\n",
       "      <th>matrix</th>\n",
       "      <th>Ei</th>\n",
       "      <th>Ef</th>\n",
       "      <th>mat_unc</th>\n",
       "      <th>Ei_unc</th>\n",
       "      <th>Ef_unc</th>\n",
       "      <th>modif</th>\n",
       "    </tr>\n",
       "  </thead>\n",
       "  <tbody>\n",
       "  </tbody>\n",
       "</table>\n",
       "</div>"
      ],
      "text/plain": [
       "Empty DataFrame\n",
       "Columns: [Initial, Decay, matrix, Ei, Ef, mat_unc, Ei_unc, Ef_unc, modif]\n",
       "Index: []"
      ]
     },
     "execution_count": 9,
     "metadata": {},
     "output_type": "execute_result"
    }
   ],
   "source": [
    "all_state[all_state.modif == '*']"
   ]
  },
  {
   "cell_type": "code",
   "execution_count": 17,
   "metadata": {},
   "outputs": [],
   "source": [
    "#puts higher energy in Initial, sorts by energy\n",
    "#does not sort decay states FIX?"
   ]
  },
  {
   "cell_type": "code",
   "execution_count": 10,
   "metadata": {},
   "outputs": [
    {
     "name": "stderr",
     "output_type": "stream",
     "text": [
      "<ipython-input-10-f7b580c692b9>:39: SettingWithCopyWarning: \n",
      "A value is trying to be set on a copy of a slice from a DataFrame.\n",
      "Try using .loc[row_indexer,col_indexer] = value instead\n",
      "\n",
      "See the caveats in the documentation: https://pandas.pydata.org/pandas-docs/stable/user_guide/indexing.html#returning-a-view-versus-a-copy\n",
      "  all_state['Initial'] = inits\n",
      "<ipython-input-10-f7b580c692b9>:40: SettingWithCopyWarning: \n",
      "A value is trying to be set on a copy of a slice from a DataFrame.\n",
      "Try using .loc[row_indexer,col_indexer] = value instead\n",
      "\n",
      "See the caveats in the documentation: https://pandas.pydata.org/pandas-docs/stable/user_guide/indexing.html#returning-a-view-versus-a-copy\n",
      "  all_state['Decay'] = decs\n",
      "<ipython-input-10-f7b580c692b9>:41: SettingWithCopyWarning: \n",
      "A value is trying to be set on a copy of a slice from a DataFrame.\n",
      "Try using .loc[row_indexer,col_indexer] = value instead\n",
      "\n",
      "See the caveats in the documentation: https://pandas.pydata.org/pandas-docs/stable/user_guide/indexing.html#returning-a-view-versus-a-copy\n",
      "  all_state['Ei'] = eis\n",
      "<ipython-input-10-f7b580c692b9>:42: SettingWithCopyWarning: \n",
      "A value is trying to be set on a copy of a slice from a DataFrame.\n",
      "Try using .loc[row_indexer,col_indexer] = value instead\n",
      "\n",
      "See the caveats in the documentation: https://pandas.pydata.org/pandas-docs/stable/user_guide/indexing.html#returning-a-view-versus-a-copy\n",
      "  all_state['Ef'] = efs\n",
      "<ipython-input-10-f7b580c692b9>:43: SettingWithCopyWarning: \n",
      "A value is trying to be set on a copy of a slice from a DataFrame.\n",
      "Try using .loc[row_indexer,col_indexer] = value instead\n",
      "\n",
      "See the caveats in the documentation: https://pandas.pydata.org/pandas-docs/stable/user_guide/indexing.html#returning-a-view-versus-a-copy\n",
      "  all_state['Ei_unc'] = eis_unc\n",
      "<ipython-input-10-f7b580c692b9>:44: SettingWithCopyWarning: \n",
      "A value is trying to be set on a copy of a slice from a DataFrame.\n",
      "Try using .loc[row_indexer,col_indexer] = value instead\n",
      "\n",
      "See the caveats in the documentation: https://pandas.pydata.org/pandas-docs/stable/user_guide/indexing.html#returning-a-view-versus-a-copy\n",
      "  all_state['Ef_unc'] = efs_unc\n",
      "<ipython-input-10-f7b580c692b9>:47: SettingWithCopyWarning: \n",
      "A value is trying to be set on a copy of a slice from a DataFrame\n",
      "\n",
      "See the caveats in the documentation: https://pandas.pydata.org/pandas-docs/stable/user_guide/indexing.html#returning-a-view-versus-a-copy\n",
      "  all_state.sort_values('Ei', inplace = True)\n"
     ]
    }
   ],
   "source": [
    "eis = []\n",
    "efs = []\n",
    "inits = []\n",
    "decs = []\n",
    "eis_unc = []\n",
    "efs_unc = []\n",
    "flipped_mat = []\n",
    "for i in range(len(all_state)):\n",
    "    if float(all_state.Ei[i]) < float(all_state.Ef[i]): #if we need to switch\n",
    "        a = all_state.Ef[i]\n",
    "        b = all_state.Ei[i]\n",
    "        unc1 = all_state.Ef_unc[i]\n",
    "        unc2 = all_state.Ei_unc[i]\n",
    "        c2 = all_state.Decay[i]\n",
    "        d = all_state.Initial[i]\n",
    "        eis.append(a)\n",
    "        eis_unc.append(unc1)\n",
    "        efs.append(b)\n",
    "        efs_unc.append(unc2)\n",
    "        inits.append(c2)\n",
    "        decs.append(d)\n",
    "        flipped_mat.append((all_state['matrix'][i]))\n",
    "\n",
    "    else:\n",
    "        a = all_state.Ei[i]\n",
    "        b = all_state.Ef[i]\n",
    "        unc1 = all_state.Ei_unc[i]\n",
    "        unc2 = all_state.Ef_unc[i]\n",
    "        c2 = all_state.Initial[i]\n",
    "        d = all_state.Decay[i]\n",
    "        eis.append(a)\n",
    "        eis_unc.append(unc1)\n",
    "        efs.append(b)\n",
    "        efs_unc.append(unc2)\n",
    "        inits.append(c2)\n",
    "        decs.append(d)\n",
    "        #print(unc1)\n",
    "        \n",
    "all_state['Initial'] = inits\n",
    "all_state['Decay'] = decs\n",
    "all_state['Ei'] = eis\n",
    "all_state['Ef'] = efs\n",
    "all_state['Ei_unc'] = eis_unc\n",
    "all_state['Ef_unc'] = efs_unc\n",
    "#mat_page = all_state.copy()\n",
    "#mat_page.reset_index(inplace = True, drop = True)\n",
    "all_state.sort_values('Ei', inplace = True)\n",
    "all_state.reset_index(inplace = True, drop = True)\n",
    "#HERE IS ORDERING?"
   ]
  },
  {
   "cell_type": "code",
   "execution_count": 11,
   "metadata": {},
   "outputs": [],
   "source": [
    "#indices of all spots where the ordering of the states was flipped\n",
    "flipped_ind = []\n",
    "for i in range(len(flipped_mat)):\n",
    "    indx = np.where(all_state.matrix == flipped_mat[i])[0][0]\n",
    "    flipped_ind.append(indx)"
   ]
  },
  {
   "cell_type": "code",
   "execution_count": 20,
   "metadata": {},
   "outputs": [],
   "source": [
    "#old code that checked for duplicate values"
   ]
  },
  {
   "cell_type": "code",
   "execution_count": 12,
   "metadata": {},
   "outputs": [
    {
     "data": {
      "text/plain": [
       "[]"
      ]
     },
     "execution_count": 12,
     "metadata": {},
     "output_type": "execute_result"
    }
   ],
   "source": [
    "initial_holds = list(all_state.Initial)\n",
    "ends_holds = list(all_state.Decay)\n",
    "mat_holds = list(all_state.matrix)\n",
    "dups = []\n",
    "for k, i in enumerate(all_state.matrix):\n",
    "    ms = all_state.matrix[k]\n",
    "    ini = all_state.Initial[k]\n",
    "    end = all_state.Decay[k]\n",
    "    res_list = [i for i in range(len(mat_holds)) if (mat_holds[i] == ms) \n",
    "                and (initial_holds[i] == ini) and (ends_holds[i] == end)]\n",
    "    if len(res_list) > 1:\n",
    "        dups.append(res_list[1:])\n",
    "dups"
   ]
  },
  {
   "cell_type": "code",
   "execution_count": 13,
   "metadata": {},
   "outputs": [],
   "source": [
    "#Removes duplicates, resets index. \n",
    "if len(dups) != 0:\n",
    "    dups = pd.DataFrame(dups)\n",
    "    dups.drop_duplicates(inplace = True)\n",
    "    dups = list(dups[0])\n",
    "    all_state.drop(index = dups, inplace = True)\n",
    "    all_state.reset_index(inplace = True, drop = True)\n",
    "    all_state['matrix'] = pd.to_numeric(all_state.matrix)"
   ]
  },
  {
   "cell_type": "code",
   "execution_count": 23,
   "metadata": {},
   "outputs": [],
   "source": [
    "#replaces Nan with 0 values in uncertainty, changes energy, matrix and their errors to strings then to Decimals\n",
    "###############possibly source of precision loss##########################"
   ]
  },
  {
   "cell_type": "code",
   "execution_count": 14,
   "metadata": {},
   "outputs": [
    {
     "name": "stderr",
     "output_type": "stream",
     "text": [
      "d:\\python3\\lib\\site-packages\\pandas\\core\\series.py:4433: SettingWithCopyWarning: \n",
      "A value is trying to be set on a copy of a slice from a DataFrame\n",
      "\n",
      "See the caveats in the documentation: https://pandas.pydata.org/pandas-docs/stable/user_guide/indexing.html#returning-a-view-versus-a-copy\n",
      "  return super().fillna(\n",
      "d:\\python3\\lib\\site-packages\\pandas\\core\\generic.py:5491: SettingWithCopyWarning: \n",
      "A value is trying to be set on a copy of a slice from a DataFrame.\n",
      "Try using .loc[row_indexer,col_indexer] = value instead\n",
      "\n",
      "See the caveats in the documentation: https://pandas.pydata.org/pandas-docs/stable/user_guide/indexing.html#returning-a-view-versus-a-copy\n",
      "  self[name] = value\n"
     ]
    }
   ],
   "source": [
    "all_state['Ef_unc'].fillna(0, inplace = True)\n",
    "Ef_uncs = []\n",
    "for i in all_state.Ef_unc:\n",
    "    #print(i)\n",
    "    if i == 'nan':\n",
    "        Ef_uncs.append(0)\n",
    "    else:\n",
    "        Ef_uncs.append(i)\n",
    "#     try: \n",
    "#         if np.isnan(i) == True or i == 'nan':\n",
    "#             print(i)\n",
    "#     except TypeError:\n",
    "#         if i == 'nan':\n",
    "            #print(i)\n",
    "\n",
    "all_state.Ef_unc = Ef_uncs\n",
    "all_state.Ei = all_state.Ei.apply(str).apply(Decimal)\n",
    "all_state.Ef = all_state.Ef.apply(str).apply(Decimal)\n",
    "all_state.Ei_unc = all_state.Ei_unc.apply(str).apply(Decimal)\n",
    "all_state.Ef_unc = all_state.Ef_unc.apply(str).apply(Decimal)\n",
    "all_state.mat_unc = all_state.mat_unc.apply(str).apply(Decimal)\n",
    "all_state.matrix = all_state.matrix.apply(str).apply(Decimal)"
   ]
  },
  {
   "cell_type": "code",
   "execution_count": 16,
   "metadata": {},
   "outputs": [
    {
     "name": "stderr",
     "output_type": "stream",
     "text": [
      "<ipython-input-16-8eb4f3f48750>:8: SettingWithCopyWarning: \n",
      "A value is trying to be set on a copy of a slice from a DataFrame.\n",
      "Try using .loc[row_indexer,col_indexer] = value instead\n",
      "\n",
      "See the caveats in the documentation: https://pandas.pydata.org/pandas-docs/stable/user_guide/indexing.html#returning-a-view-versus-a-copy\n",
      "  all_state['mat_werr'] = mat_werr\n"
     ]
    }
   ],
   "source": [
    "#creates new column mat_werr that has the matrix plus (#) format of error in one column\n",
    "mat_werr = []\n",
    "for i in range(len(all_state)):\n",
    "    try:\n",
    "        mat_werr.append(round(str(all_state.matrix[i]), str(all_state.mat_unc[i]), format = 'Drake'))\n",
    "    except ValueError:\n",
    "        print(i)\n",
    "all_state['mat_werr'] = mat_werr"
   ]
  },
  {
   "cell_type": "code",
   "execution_count": 17,
   "metadata": {},
   "outputs": [
    {
     "name": "stderr",
     "output_type": "stream",
     "text": [
      "d:\\python3\\lib\\site-packages\\pandas\\core\\frame.py:3188: SettingWithCopyWarning: \n",
      "A value is trying to be set on a copy of a slice from a DataFrame.\n",
      "Try using .loc[row_indexer,col_indexer] = value instead\n",
      "\n",
      "See the caveats in the documentation: https://pandas.pydata.org/pandas-docs/stable/user_guide/indexing.html#returning-a-view-versus-a-copy\n",
      "  self[k1] = value[k2]\n",
      "<ipython-input-17-436e7162d7fb>:5: SettingWithCopyWarning: \n",
      "A value is trying to be set on a copy of a slice from a DataFrame\n",
      "\n",
      "See the caveats in the documentation: https://pandas.pydata.org/pandas-docs/stable/user_guide/indexing.html#returning-a-view-versus-a-copy\n",
      "  all_state.sort_values(by=['l', 'n', 's','nf', 'lf', 'sf'], ascending = [True, True, True, True, True, True], inplace = True)\n"
     ]
    }
   ],
   "source": [
    "#changes nls format to list to order correctly\n",
    "old_state = all_state.copy() #version before ordering\n",
    "all_state[['n','l', 's']] = pd.DataFrame(all_state.Initial.tolist(), index= all_state.index)\n",
    "all_state[['nf','lf', 'sf']] = pd.DataFrame(all_state.Decay.tolist(), index= all_state.index)\n",
    "all_state.sort_values(by=['l', 'n', 's','nf', 'lf', 'sf'], ascending = [True, True, True, True, True, True], inplace = True)\n",
    "all_state.reset_index(drop = True, inplace = True)"
   ]
  },
  {
   "cell_type": "code",
   "execution_count": 18,
   "metadata": {},
   "outputs": [
    {
     "name": "stderr",
     "output_type": "stream",
     "text": [
      "<ipython-input-18-12050aafff5a>:64: SettingWithCopyWarning: \n",
      "A value is trying to be set on a copy of a slice from a DataFrame.\n",
      "Try using .loc[row_indexer,col_indexer] = value instead\n",
      "\n",
      "See the caveats in the documentation: https://pandas.pydata.org/pandas-docs/stable/user_guide/indexing.html#returning-a-view-versus-a-copy\n",
      "  all_state['Initial_form'] = ini_hold #formatted\n",
      "<ipython-input-18-12050aafff5a>:65: SettingWithCopyWarning: \n",
      "A value is trying to be set on a copy of a slice from a DataFrame.\n",
      "Try using .loc[row_indexer,col_indexer] = value instead\n",
      "\n",
      "See the caveats in the documentation: https://pandas.pydata.org/pandas-docs/stable/user_guide/indexing.html#returning-a-view-versus-a-copy\n",
      "  all_state['Decay_form'] = dec_hold\n"
     ]
    }
   ],
   "source": [
    "#creates new all_state columns with Initial, Decay in '7s1/2' format\n",
    "from sympy import pretty_print as pp, latex\n",
    "from sympy import Symbol\n",
    "\n",
    "ini_hold = []\n",
    "dec_hold = []\n",
    "n_holdI, l_holdI, s_holdI = [], [], []\n",
    "n_holdD, l_holdD, s_holdD = [], [], []\n",
    "for i in range(len(all_state)):\n",
    "    #Initial\n",
    "    n = str(all_state.Initial[i][0])\n",
    "    if all_state.Initial[i][1] == 0:\n",
    "        l = 's'\n",
    "    elif all_state.Initial[i][1] == 1:\n",
    "        l = 'p'\n",
    "    elif all_state.Initial[i][1] == 2:\n",
    "        l = 'd'\n",
    "    elif all_state.Initial[i][1] == 3:\n",
    "        l = 'f'\n",
    "    elif all_state.Initial[i][1] == 4:\n",
    "        l = 'g'\n",
    "    if all_state.Initial[i][2] == 0.5:\n",
    "        s = '1/2'\n",
    "    elif all_state.Initial[i][2] == 1.5:\n",
    "        s = '3/2'\n",
    "    elif all_state.Initial[i][2] == 2.5:\n",
    "        s = '5/2'\n",
    "    elif all_state.Initial[i][2] == 3.5:\n",
    "        s = '7/2'\n",
    "    elif all_state.Initial[i][2] == 4.5:\n",
    "        s = '9/2'\n",
    "    ini = n+l+s\n",
    "    ini_hold.append(ini)\n",
    "    n_holdI.append(n)\n",
    "    l_holdI.append(l)\n",
    "    s_holdI.append(s)\n",
    "    \n",
    "    #Decay\n",
    "    n = str(all_state.Decay[i][0])\n",
    "    if all_state.Decay[i][1] == 0:\n",
    "        l = 's'\n",
    "    elif all_state.Decay[i][1] == 1:\n",
    "        l = 'p'\n",
    "    elif all_state.Decay[i][1] == 2:\n",
    "        l = 'd'\n",
    "    elif all_state.Decay[i][1] == 3:\n",
    "        l = 'f'\n",
    "    if all_state.Decay[i][2] == 0.5:\n",
    "        s = '1/2'\n",
    "    elif all_state.Decay[i][2] == 1.5:\n",
    "        s = '3/2'\n",
    "    elif all_state.Decay[i][2] == 2.5:\n",
    "        s = '5/2'\n",
    "    elif all_state.Decay[i][2] == 3.5:\n",
    "        s = '7/2'\n",
    "    elif all_state.Decay[i][2] == 4.5:\n",
    "        s = '9/2'\n",
    "    dec = n+l+s\n",
    "    dec_hold.append(dec)\n",
    "    n_holdD.append(n)\n",
    "    l_holdD.append(l)\n",
    "    s_holdD.append(s)\n",
    "    \n",
    "all_state['Initial_form'] = ini_hold #formatted \n",
    "all_state['Decay_form'] = dec_hold"
   ]
  },
  {
   "cell_type": "code",
   "execution_count": 29,
   "metadata": {},
   "outputs": [],
   "source": [
    "#puts in the experimental matrix values into all_state in matrix, uncertainty, and combined () format\n",
    "#has to run for loop twice because experimental data are not ordered in Initial Decay format, Decay may be first\n",
    "# if 'II' in element:\n",
    "#     #number of ionizations\n",
    "#     element_othernm = element.split('I')[0] + '+' * (len(element.split('I')) - 2)\n",
    "#     exp_data_name = \"Experimental_Data\\\\%s-matrix-elements.csv\" % element_othernm\n",
    "# else:\n",
    "#     exp_data_name = \"Experimental_Data\\\\%s-matrix-elements.csv\" % element\n",
    "exp_data_name = \"Experimental_Data\\\\%s-matrix-elements.csv\" % element"
   ]
  },
  {
   "cell_type": "code",
   "execution_count": 19,
   "metadata": {},
   "outputs": [],
   "source": [
    "#indices of all spots where the ordering of the states was flipped\n",
    "flipped_ind = []\n",
    "for i in range(len(flipped_mat)):\n",
    "    indx = np.where(all_state.matrix == Decimal(flipped_mat[i]))[0][0]\n",
    "    flipped_ind.append(indx)"
   ]
  },
  {
   "cell_type": "code",
   "execution_count": 20,
   "metadata": {},
   "outputs": [
    {
     "ename": "NameError",
     "evalue": "name 'exp_data_name' is not defined",
     "output_type": "error",
     "traceback": [
      "\u001b[1;31m---------------------------------------------------------------------------\u001b[0m",
      "\u001b[1;31mNameError\u001b[0m                                 Traceback (most recent call last)",
      "\u001b[1;32m<ipython-input-20-b4d5e6cda427>\u001b[0m in \u001b[0;36m<module>\u001b[1;34m\u001b[0m\n\u001b[0;32m      1\u001b[0m \u001b[1;31m#reads in experimental data\u001b[0m\u001b[1;33m\u001b[0m\u001b[1;33m\u001b[0m\u001b[1;33m\u001b[0m\u001b[0m\n\u001b[0;32m      2\u001b[0m \u001b[1;32mtry\u001b[0m\u001b[1;33m:\u001b[0m\u001b[1;33m\u001b[0m\u001b[1;33m\u001b[0m\u001b[0m\n\u001b[1;32m----> 3\u001b[1;33m     \u001b[0mexp\u001b[0m \u001b[1;33m=\u001b[0m \u001b[0mpd\u001b[0m\u001b[1;33m.\u001b[0m\u001b[0mread_csv\u001b[0m\u001b[1;33m(\u001b[0m\u001b[0mexp_data_name\u001b[0m\u001b[1;33m)\u001b[0m \u001b[1;31m#experiment\u001b[0m\u001b[1;33m\u001b[0m\u001b[1;33m\u001b[0m\u001b[0m\n\u001b[0m\u001b[0;32m      4\u001b[0m     \u001b[0ma\u001b[0m \u001b[1;33m=\u001b[0m \u001b[0mlist\u001b[0m\u001b[1;33m(\u001b[0m\u001b[0mall_state\u001b[0m\u001b[1;33m.\u001b[0m\u001b[0mInitial_form\u001b[0m\u001b[1;33m)\u001b[0m\u001b[1;33m\u001b[0m\u001b[1;33m\u001b[0m\u001b[0m\n\u001b[0;32m      5\u001b[0m     \u001b[0mb\u001b[0m \u001b[1;33m=\u001b[0m \u001b[0mlist\u001b[0m\u001b[1;33m(\u001b[0m\u001b[0mall_state\u001b[0m\u001b[1;33m.\u001b[0m\u001b[0mDecay_form\u001b[0m\u001b[1;33m)\u001b[0m\u001b[1;33m\u001b[0m\u001b[1;33m\u001b[0m\u001b[0m\n",
      "\u001b[1;31mNameError\u001b[0m: name 'exp_data_name' is not defined"
     ]
    }
   ],
   "source": [
    "#reads in experimental data\n",
    "try:\n",
    "    exp = pd.read_csv(exp_data_name) #experiment\n",
    "    a = list(all_state.Initial_form)\n",
    "    b = list(all_state.Decay_form)\n",
    "    c = list(zip(a,b))\n",
    "\n",
    "    d = list(exp.From)\n",
    "    e = list(exp.To)\n",
    "    f = list(zip(d,e))\n",
    "    replaced_ind = []\n",
    "    print('Replaced Values, experimental index, all_state index')\n",
    "    for i in range(len(f)):\n",
    "        try:\n",
    "            l = np.where((all_state['Initial_form'] == f[i][1]) & (all_state['Decay_form'] == f[i][0]))[0][0]\n",
    "            all_state.iloc[l, all_state.columns.get_loc('matrix')] = exp['value'][i]\n",
    "            all_state.iloc[l, all_state.columns.get_loc('mat_unc')] = exp['uncertainity'][i]\n",
    "            all_state.iloc[l, all_state.columns.get_loc('mat_werr')] = exp['Matrixelement'][i] + exp['Ref'][i]\n",
    "            replaced_ind.append(l)\n",
    "            print(i, l)\n",
    "        except IndexError:\n",
    "            pass\n",
    "    for i in range(len(f)):\n",
    "        try:\n",
    "            l = np.where((all_state['Initial_form'] == f[i][0]) & (all_state['Decay_form'] == f[i][1]))[0][0]\n",
    "            all_state.iloc[l, all_state.columns.get_loc('matrix')] = exp['value'][i]\n",
    "            all_state.iloc[l, all_state.columns.get_loc('mat_unc')] = exp['uncertainity'][i]\n",
    "            all_state.iloc[l, all_state.columns.get_loc('mat_werr')] = exp['Matrixelement'][i] + exp['Ref'][i]\n",
    "            replaced_ind.append(l)\n",
    "            print(i, l)\n",
    "        except IndexError:\n",
    "            pass\n",
    "except FileNotFoundError:\n",
    "    pass"
   ]
  },
  {
   "cell_type": "code",
   "execution_count": 21,
   "metadata": {},
   "outputs": [
    {
     "name": "stderr",
     "output_type": "stream",
     "text": [
      "d:\\python3\\lib\\site-packages\\pandas\\core\\frame.py:4305: SettingWithCopyWarning: \n",
      "A value is trying to be set on a copy of a slice from a DataFrame\n",
      "\n",
      "See the caveats in the documentation: https://pandas.pydata.org/pandas-docs/stable/user_guide/indexing.html#returning-a-view-versus-a-copy\n",
      "  return super().drop(\n"
     ]
    }
   ],
   "source": [
    "all_state.drop(['Initial_form', 'Decay_form'], axis = 1, inplace = True)"
   ]
  },
  {
   "cell_type": "code",
   "execution_count": null,
   "metadata": {},
   "outputs": [],
   "source": [
    "#Creates Transition Rates, Lifetimes, Branching ratios, and errors\n",
    "#lifetimes put into new array\n",
    "#changes wavelengths to nm, t_rates are in s-1"
   ]
  },
  {
   "cell_type": "code",
   "execution_count": 22,
   "metadata": {},
   "outputs": [
    {
     "ename": "NameError",
     "evalue": "name 'energy_err_calc' is not defined",
     "output_type": "error",
     "traceback": [
      "\u001b[1;31m---------------------------------------------------------------------------\u001b[0m",
      "\u001b[1;31mNameError\u001b[0m                                 Traceback (most recent call last)",
      "\u001b[1;32m<ipython-input-22-5a8ccb3debb5>\u001b[0m in \u001b[0;36m<module>\u001b[1;34m\u001b[0m\n\u001b[0;32m     18\u001b[0m     \u001b[0mmerr\u001b[0m \u001b[1;33m=\u001b[0m \u001b[0mfloat\u001b[0m\u001b[1;33m(\u001b[0m\u001b[0mall_state\u001b[0m\u001b[1;33m.\u001b[0m\u001b[0mmat_unc\u001b[0m\u001b[1;33m[\u001b[0m\u001b[0mi\u001b[0m\u001b[1;33m]\u001b[0m\u001b[1;33m)\u001b[0m\u001b[1;33m\u001b[0m\u001b[1;33m\u001b[0m\u001b[0m\n\u001b[0;32m     19\u001b[0m \u001b[1;33m\u001b[0m\u001b[0m\n\u001b[1;32m---> 20\u001b[1;33m     \u001b[0mlamerr\u001b[0m \u001b[1;33m=\u001b[0m \u001b[0mfloat\u001b[0m\u001b[1;33m(\u001b[0m\u001b[0menergy_err_calc\u001b[0m\u001b[1;33m(\u001b[0m\u001b[0mEi\u001b[0m\u001b[1;33m,\u001b[0m \u001b[0mEf\u001b[0m\u001b[1;33m,\u001b[0m \u001b[0mEierr\u001b[0m\u001b[1;33m,\u001b[0m \u001b[0mEferr\u001b[0m\u001b[1;33m)\u001b[0m\u001b[1;33m)\u001b[0m\u001b[1;33m\u001b[0m\u001b[1;33m\u001b[0m\u001b[0m\n\u001b[0m\u001b[0;32m     21\u001b[0m     \u001b[0mTR\u001b[0m \u001b[1;33m=\u001b[0m \u001b[0mtransition_rate_calc\u001b[0m\u001b[1;33m(\u001b[0m\u001b[0mm\u001b[0m\u001b[1;33m,\u001b[0m\u001b[0mj\u001b[0m\u001b[1;33m,\u001b[0m\u001b[0mlam\u001b[0m\u001b[1;33m)\u001b[0m\u001b[1;33m\u001b[0m\u001b[1;33m\u001b[0m\u001b[0m\n\u001b[0;32m     22\u001b[0m \u001b[1;33m\u001b[0m\u001b[0m\n",
      "\u001b[1;31mNameError\u001b[0m: name 'energy_err_calc' is not defined"
     ]
    }
   ],
   "source": [
    "states = list(all_state.Initial)\n",
    "MatrixErrors, WavelengthsCm, WavelengthsUncAng, TransitionRates = [], [], [], []\n",
    "TransitionRateErrors, TransitionsForLifetime, TerrorsForLifetime, Lifetimes, LifetimeErrors = [], [], [], [], []\n",
    "BranchingRatios, BranchingRatioErrors = [], []\n",
    "for i in range(len(all_state)):\n",
    "    Ei = all_state.Ei[i]\n",
    "    Ef = all_state.Ef[i]\n",
    "    Eierr = all_state.Ei_unc[i]\n",
    "    Eferr = all_state.Ef_unc[i]\n",
    "\n",
    "    m = float(all_state.matrix[i])\n",
    "    j = float(all_state.Initial[i][2])\n",
    "    lam = float(1 / (Ei - Ef))\n",
    "\n",
    "    #d = decimal.Decimal(str(all_state.matrix[i])) #how many decimals spots to go out to\n",
    "    #d = -1 * d.as_tuple().exponent\n",
    "    #merr = all_state.mat_unc[i] / (10 ** d)\n",
    "    merr = float(all_state.mat_unc[i])\n",
    "    \n",
    "    lamerr = float(energy_err_calc(Ei, Ef, Eierr, Eferr))\n",
    "    TR = transition_rate_calc(m,j,lam)\n",
    "    \n",
    "    TRerr = transition_err_calc(m,j,lam,merr,lamerr)\n",
    "    \n",
    "    MatrixErrors.append(merr)\n",
    "\n",
    "    WavelengthsCm.append(lam)\n",
    "    WavelengthsUncAng.append(lamerr)\n",
    "\n",
    "    TransitionRates.append(TR)\n",
    "    TransitionRateErrors.append(TRerr)\n",
    "    \n",
    "    n_dec = all_state.Decay[i][0]\n",
    "    l_dec = all_state.Decay[i][1]\n",
    "    s_dec = all_state.Decay[i][2]\n",
    "    TransitionsForLifetime.append(TR)\n",
    "    TerrorsForLifetime.append((n_dec, l_dec, s_dec, TRerr))\n",
    "    \n",
    "    try:\n",
    "        if all_state.Initial[i] not in states[i+1:]: #If next state NOT have same Initial State Name as the current one, i.e. new transition\n",
    "            Lftime = lifetime_calc(TransitionsForLifetime)\n",
    "            LftimeError = lifetime_err_calc2(TransitionsForLifetime, TerrorsForLifetime)\n",
    "            \n",
    "            Lifetimes.append((all_state.Initial[i], Lftime, LftimeError))\n",
    "            for i in range(0, len(TransitionsForLifetime)): #all the transitions\n",
    "                \n",
    "                BR = branching_ratio_calc(TransitionsForLifetime[i], Lftime)\n",
    "                BRerr = branching_ratio_error(TransitionsForLifetime[i], TransitionsForLifetime, \n",
    "                                                  TerrorsForLifetime[i][3], [trerr[3] for trerr in TerrorsForLifetime], Lftime)\n",
    "                BranchingRatios.append(BR)\n",
    "                BranchingRatioErrors.append(BRerr)\n",
    "                \n",
    "                \n",
    "            TransitionsForLifetime = []\n",
    "            TerrorsForLifetime = [] #reset for next initial state\n",
    "    except KeyError:\n",
    "        print(i)\n",
    "        \n",
    "all_state['wavelength'] = WavelengthsCm\n",
    "all_state.wavelength = all_state.wavelength.apply(cm_to_nm)\n",
    "all_state['Eerr'] = WavelengthsUncAng\n",
    "all_state.Eerr = all_state.Eerr.apply(ang_to_nm)\n",
    "all_state['transition_rate s-1'] = TransitionRates\n",
    "all_state['Terr'] = TransitionRateErrors\n",
    "all_state['branching ratio'] = BranchingRatios\n",
    "all_state['Berr'] = BranchingRatioErrors\n",
    "life_linear = Lifetimes.copy()\n",
    "all_linear = all_state.copy()"
   ]
  },
  {
   "cell_type": "code",
   "execution_count": null,
   "metadata": {},
   "outputs": [],
   "source": [
    "# def branching_ratio_error(Tr, Trs, TrError, TrErrors, lifetime):\n",
    "#     sums = 1/lifetime #sum of all transition rates\n",
    "#     all_errors = []\n",
    "#     for i in range(len(Trs)):\n",
    "#         #if the transition rate is for the transition we are calculating branching ratio for\n",
    "#         if Trs[i] == Tr:\n",
    "#             numer = sums - Trs[i] #top is All transition rates - TR of interest\n",
    "#             denom = sums**2 #denom is all transition rates\n",
    "#             Error1 = (numer / denom)**2 # ((sum - TR) / (sum**2)) ** 2\n",
    "#             Error1 = Error1 * (TrErrors[i]**2) #Error1 * errors for this transition rate **2\n",
    "#         else:\n",
    "#             numer = Tr\n",
    "#             denom = sums**2\n",
    "#             Error1 = (numer / denom)**2\n",
    "#             Error1 = Error1 * (TrErrors[i]**2)\n",
    "#         all_errors.append(Error1)\n",
    "#     Br_error = np.sqrt(np.sum(all_errors))\n",
    "#     if len(all_errors) == 1:\n",
    "#         Br_error = 0\n",
    "#     return Br_error"
   ]
  },
  {
   "cell_type": "code",
   "execution_count": null,
   "metadata": {},
   "outputs": [],
   "source": [
    "#makes 20 decimal float approximations of wavelenght and error for \"exact\" calculation"
   ]
  },
  {
   "cell_type": "code",
   "execution_count": null,
   "metadata": {},
   "outputs": [],
   "source": [
    "precise_wave = []\n",
    "precise_Eerr = []\n",
    "for i in range(len(all_state)): #saves new columns of all_state to be used in calculation, that aren't rounded yet\n",
    "    precise_wave.append((1/(all_state.Ei[i] - all_state.Ef[i]))*10**7)\n",
    "    precise_Eerr.append(Decimal(all_state.Eerr[i]))\n",
    "all_state['precise_wave'] = precise_wave\n",
    "all_state['precise_Eerr'] = precise_Eerr"
   ]
  },
  {
   "cell_type": "code",
   "execution_count": null,
   "metadata": {},
   "outputs": [],
   "source": [
    "#saves the wavelength and its error with the same number of digits past the decimal as the original initial energy had\n",
    "new_wavelength = []\n",
    "new_wave_error = []\n",
    "for p in range(len(all_state)):\n",
    "    getcontext().prec = 10\n",
    "    num_digits = len(str(all_state.Ei[p]).split('.')[1]) #how many digits past the decimal spot\n",
    "    new_wavelength.append(round(str(all_state.wavelength[p]), decimals = num_digits))\n",
    "    new_wave_error.append(round(str(all_state.Eerr[p]), decimals = num_digits))\n",
    "\n",
    "all_state['wavelength'] = new_wavelength\n",
    "all_state['Eerr'] = new_wave_error"
   ]
  },
  {
   "cell_type": "code",
   "execution_count": null,
   "metadata": {},
   "outputs": [],
   "source": [
    "#mat_page is what is going to be stored in matrix elements page\n",
    "mat_page = all_state.copy()\n",
    "mat_page\n",
    "\n",
    "flipped_cols = [('Initial', 'Decay'), ('Ei', 'Ef'), ('Ei_unc', 'Ef_unc')]\n",
    "for i in flipped_cols:\n",
    "    mat_page.loc[flipped_ind,i[0]] = all_state.loc[flipped_ind, i[1]]\n",
    "    mat_page.loc[flipped_ind, i[1]] = all_state.loc[flipped_ind, i[0]]\n",
    "\n",
    "#reorder\n",
    "mat_page[['n','l', 's']] = pd.DataFrame(mat_page.Initial.tolist(), index= mat_page.index)\n",
    "mat_page[['nf','lf', 'sf']] = pd.DataFrame(mat_page.Decay.tolist(), index= mat_page.index)\n",
    "mat_page.sort_values(by=['l', 'n', 's','nf', 'lf', 'sf'], ascending = [True, True, True, True, True, True], inplace = True)\n",
    "mat_page.reset_index(drop = True, inplace = True)"
   ]
  }
 ],
 "metadata": {
  "kernelspec": {
   "display_name": "Python 3",
   "language": "python",
   "name": "python3"
  },
  "language_info": {
   "codemirror_mode": {
    "name": "ipython",
    "version": 3
   },
   "file_extension": ".py",
   "mimetype": "text/x-python",
   "name": "python",
   "nbconvert_exporter": "python",
   "pygments_lexer": "ipython3",
   "version": "3.8.1"
  }
 },
 "nbformat": 4,
 "nbformat_minor": 4
}
