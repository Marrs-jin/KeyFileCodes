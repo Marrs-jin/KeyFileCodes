{
 "cells": [
  {
   "cell_type": "code",
   "execution_count": 1,
   "metadata": {},
   "outputs": [],
   "source": [
    "import numpy as np\n",
    "import pandas as pd\n",
    "from fractions import Fraction\n",
    "import xlsxwriter\n",
    "import decimal\n",
    "from decimal import *\n",
    "import re\n",
    "from modsigfig import round #does this need to be done \n",
    "pd.set_option('display.max_rows', 500)\n",
    "getcontext().prec = 20\n",
    "#allowed: p to s, d, p. s to p. d to s, d.\n",
    "# n anything below energy\n",
    "# j = 1/2 to 1/2, 3/2. j = 3/2 to 3/2, 1/2, 5/2. j = 5/2 to 5/2, 3/2, 7/2. "
   ]
  },
  {
   "cell_type": "code",
   "execution_count": 2,
   "metadata": {},
   "outputs": [],
   "source": [
    "%run -i LoadFunctions.py"
   ]
  },
  {
   "cell_type": "code",
   "execution_count": 3,
   "metadata": {},
   "outputs": [],
   "source": [
    "%run -i Format_save_copy.py"
   ]
  },
  {
   "cell_type": "code",
   "execution_count": 4,
   "metadata": {},
   "outputs": [
    {
     "name": "stdout",
     "output_type": "stream",
     "text": [
      "Element name in files:Fr\n"
     ]
    },
    {
     "name": "stderr",
     "output_type": "stream",
     "text": [
      "C:\\Users\\dmgame\\Documents\\SafronovaResearch\\LifetimesWebsite\\LoadInElement.py:78: SettingWithCopyWarning: \n",
      "A value is trying to be set on a copy of a slice from a DataFrame.\n",
      "Try using .loc[row_indexer,col_indexer] = value instead\n",
      "\n",
      "See the caveats in the documentation: https://pandas.pydata.org/pandas-docs/stable/user_guide/indexing.html#returning-a-view-versus-a-copy\n",
      "  mats['old_unc'] = database['unc']\n",
      "C:\\Users\\dmgame\\Documents\\SafronovaResearch\\LifetimesWebsite\\LoadInElement.py:293: SettingWithCopyWarning: \n",
      "A value is trying to be set on a copy of a slice from a DataFrame.\n",
      "Try using .loc[row_indexer,col_indexer] = value instead\n",
      "\n",
      "See the caveats in the documentation: https://pandas.pydata.org/pandas-docs/stable/user_guide/indexing.html#returning-a-view-versus-a-copy\n",
      "  all_state['old_unc'] = database['unc']\n",
      "C:\\Users\\dmgame\\Documents\\SafronovaResearch\\LifetimesWebsite\\LoadInElement.py:342: SettingWithCopyWarning: \n",
      "A value is trying to be set on a copy of a slice from a DataFrame.\n",
      "Try using .loc[row_indexer,col_indexer] = value instead\n",
      "\n",
      "See the caveats in the documentation: https://pandas.pydata.org/pandas-docs/stable/user_guide/indexing.html#returning-a-view-versus-a-copy\n",
      "  all_state['Initial'] = inits\n",
      "C:\\Users\\dmgame\\Documents\\SafronovaResearch\\LifetimesWebsite\\LoadInElement.py:343: SettingWithCopyWarning: \n",
      "A value is trying to be set on a copy of a slice from a DataFrame.\n",
      "Try using .loc[row_indexer,col_indexer] = value instead\n",
      "\n",
      "See the caveats in the documentation: https://pandas.pydata.org/pandas-docs/stable/user_guide/indexing.html#returning-a-view-versus-a-copy\n",
      "  all_state['Decay'] = decs\n",
      "C:\\Users\\dmgame\\Documents\\SafronovaResearch\\LifetimesWebsite\\LoadInElement.py:344: SettingWithCopyWarning: \n",
      "A value is trying to be set on a copy of a slice from a DataFrame.\n",
      "Try using .loc[row_indexer,col_indexer] = value instead\n",
      "\n",
      "See the caveats in the documentation: https://pandas.pydata.org/pandas-docs/stable/user_guide/indexing.html#returning-a-view-versus-a-copy\n",
      "  all_state['Ei'] = eis\n",
      "C:\\Users\\dmgame\\Documents\\SafronovaResearch\\LifetimesWebsite\\LoadInElement.py:345: SettingWithCopyWarning: \n",
      "A value is trying to be set on a copy of a slice from a DataFrame.\n",
      "Try using .loc[row_indexer,col_indexer] = value instead\n",
      "\n",
      "See the caveats in the documentation: https://pandas.pydata.org/pandas-docs/stable/user_guide/indexing.html#returning-a-view-versus-a-copy\n",
      "  all_state['Ef'] = efs\n",
      "C:\\Users\\dmgame\\Documents\\SafronovaResearch\\LifetimesWebsite\\LoadInElement.py:346: SettingWithCopyWarning: \n",
      "A value is trying to be set on a copy of a slice from a DataFrame.\n",
      "Try using .loc[row_indexer,col_indexer] = value instead\n",
      "\n",
      "See the caveats in the documentation: https://pandas.pydata.org/pandas-docs/stable/user_guide/indexing.html#returning-a-view-versus-a-copy\n",
      "  all_state['Ei_unc'] = eis_unc\n",
      "C:\\Users\\dmgame\\Documents\\SafronovaResearch\\LifetimesWebsite\\LoadInElement.py:347: SettingWithCopyWarning: \n",
      "A value is trying to be set on a copy of a slice from a DataFrame.\n",
      "Try using .loc[row_indexer,col_indexer] = value instead\n",
      "\n",
      "See the caveats in the documentation: https://pandas.pydata.org/pandas-docs/stable/user_guide/indexing.html#returning-a-view-versus-a-copy\n",
      "  all_state['Ef_unc'] = efs_unc\n",
      "C:\\Users\\dmgame\\Documents\\SafronovaResearch\\LifetimesWebsite\\LoadInElement.py:348: SettingWithCopyWarning: \n",
      "A value is trying to be set on a copy of a slice from a DataFrame\n",
      "\n",
      "See the caveats in the documentation: https://pandas.pydata.org/pandas-docs/stable/user_guide/indexing.html#returning-a-view-versus-a-copy\n",
      "  all_state.sort_values('Ei', inplace = True)\n",
      "d:\\python3\\lib\\site-packages\\pandas\\core\\generic.py:6245: SettingWithCopyWarning: \n",
      "A value is trying to be set on a copy of a slice from a DataFrame\n",
      "\n",
      "See the caveats in the documentation: https://pandas.pydata.org/pandas-docs/stable/user_guide/indexing.html#returning-a-view-versus-a-copy\n",
      "  self._update_inplace(new_data)\n",
      "d:\\python3\\lib\\site-packages\\pandas\\core\\generic.py:5303: SettingWithCopyWarning: \n",
      "A value is trying to be set on a copy of a slice from a DataFrame.\n",
      "Try using .loc[row_indexer,col_indexer] = value instead\n",
      "\n",
      "See the caveats in the documentation: https://pandas.pydata.org/pandas-docs/stable/user_guide/indexing.html#returning-a-view-versus-a-copy\n",
      "  self[name] = value\n",
      "C:\\Users\\dmgame\\Documents\\SafronovaResearch\\LifetimesWebsite\\LoadInElement.py:434: SettingWithCopyWarning: \n",
      "A value is trying to be set on a copy of a slice from a DataFrame.\n",
      "Try using .loc[row_indexer,col_indexer] = value instead\n",
      "\n",
      "See the caveats in the documentation: https://pandas.pydata.org/pandas-docs/stable/user_guide/indexing.html#returning-a-view-versus-a-copy\n",
      "  all_state['mat_werr'] = mat_werr\n",
      "d:\\python3\\lib\\site-packages\\pandas\\core\\frame.py:2963: SettingWithCopyWarning: \n",
      "A value is trying to be set on a copy of a slice from a DataFrame.\n",
      "Try using .loc[row_indexer,col_indexer] = value instead\n",
      "\n",
      "See the caveats in the documentation: https://pandas.pydata.org/pandas-docs/stable/user_guide/indexing.html#returning-a-view-versus-a-copy\n",
      "  self[k1] = value[k2]\n",
      "C:\\Users\\dmgame\\Documents\\SafronovaResearch\\LifetimesWebsite\\LoadInElement.py:442: SettingWithCopyWarning: \n",
      "A value is trying to be set on a copy of a slice from a DataFrame\n",
      "\n",
      "See the caveats in the documentation: https://pandas.pydata.org/pandas-docs/stable/user_guide/indexing.html#returning-a-view-versus-a-copy\n",
      "  all_state.sort_values(by=['l', 'n', 's'], ascending = [True, True, True], inplace = True)\n",
      "C:\\Users\\dmgame\\Documents\\SafronovaResearch\\LifetimesWebsite\\LoadInElement.py:510: SettingWithCopyWarning: \n",
      "A value is trying to be set on a copy of a slice from a DataFrame.\n",
      "Try using .loc[row_indexer,col_indexer] = value instead\n",
      "\n",
      "See the caveats in the documentation: https://pandas.pydata.org/pandas-docs/stable/user_guide/indexing.html#returning-a-view-versus-a-copy\n",
      "  all_state['Initial_form'] = ini_hold #formatted\n",
      "C:\\Users\\dmgame\\Documents\\SafronovaResearch\\LifetimesWebsite\\LoadInElement.py:511: SettingWithCopyWarning: \n",
      "A value is trying to be set on a copy of a slice from a DataFrame.\n",
      "Try using .loc[row_indexer,col_indexer] = value instead\n",
      "\n",
      "See the caveats in the documentation: https://pandas.pydata.org/pandas-docs/stable/user_guide/indexing.html#returning-a-view-versus-a-copy\n",
      "  all_state['Decay_form'] = dec_hold\n"
     ]
    },
    {
     "name": "stdout",
     "output_type": "stream",
     "text": [
      "Replaced Values, experimental index, all_state index\n",
      "0 56\n",
      "1 57\n"
     ]
    },
    {
     "name": "stderr",
     "output_type": "stream",
     "text": [
      "d:\\python3\\lib\\site-packages\\pandas\\core\\indexing.py:965: SettingWithCopyWarning: \n",
      "A value is trying to be set on a copy of a slice from a DataFrame.\n",
      "Try using .loc[row_indexer,col_indexer] = value instead\n",
      "\n",
      "See the caveats in the documentation: https://pandas.pydata.org/pandas-docs/stable/user_guide/indexing.html#returning-a-view-versus-a-copy\n",
      "  self.obj[item] = s\n",
      "d:\\python3\\lib\\site-packages\\pandas\\core\\frame.py:3990: SettingWithCopyWarning: \n",
      "A value is trying to be set on a copy of a slice from a DataFrame\n",
      "\n",
      "See the caveats in the documentation: https://pandas.pydata.org/pandas-docs/stable/user_guide/indexing.html#returning-a-view-versus-a-copy\n",
      "  return super().drop(\n",
      "C:\\Users\\dmgame\\Documents\\SafronovaResearch\\LifetimesWebsite\\LoadInElement.py:638: SettingWithCopyWarning: \n",
      "A value is trying to be set on a copy of a slice from a DataFrame.\n",
      "Try using .loc[row_indexer,col_indexer] = value instead\n",
      "\n",
      "See the caveats in the documentation: https://pandas.pydata.org/pandas-docs/stable/user_guide/indexing.html#returning-a-view-versus-a-copy\n",
      "  all_state['wavelength'] = WavelengthsCm\n",
      "C:\\Users\\dmgame\\Documents\\SafronovaResearch\\LifetimesWebsite\\LoadInElement.py:640: SettingWithCopyWarning: \n",
      "A value is trying to be set on a copy of a slice from a DataFrame.\n",
      "Try using .loc[row_indexer,col_indexer] = value instead\n",
      "\n",
      "See the caveats in the documentation: https://pandas.pydata.org/pandas-docs/stable/user_guide/indexing.html#returning-a-view-versus-a-copy\n",
      "  all_state['Eerr'] = WavelengthsUncAng\n",
      "C:\\Users\\dmgame\\Documents\\SafronovaResearch\\LifetimesWebsite\\LoadInElement.py:642: SettingWithCopyWarning: \n",
      "A value is trying to be set on a copy of a slice from a DataFrame.\n",
      "Try using .loc[row_indexer,col_indexer] = value instead\n",
      "\n",
      "See the caveats in the documentation: https://pandas.pydata.org/pandas-docs/stable/user_guide/indexing.html#returning-a-view-versus-a-copy\n",
      "  all_state['transition_rate s-1'] = TransitionRates\n",
      "C:\\Users\\dmgame\\Documents\\SafronovaResearch\\LifetimesWebsite\\LoadInElement.py:643: SettingWithCopyWarning: \n",
      "A value is trying to be set on a copy of a slice from a DataFrame.\n",
      "Try using .loc[row_indexer,col_indexer] = value instead\n",
      "\n",
      "See the caveats in the documentation: https://pandas.pydata.org/pandas-docs/stable/user_guide/indexing.html#returning-a-view-versus-a-copy\n",
      "  all_state['Terr'] = TransitionRateErrors\n",
      "C:\\Users\\dmgame\\Documents\\SafronovaResearch\\LifetimesWebsite\\LoadInElement.py:644: SettingWithCopyWarning: \n",
      "A value is trying to be set on a copy of a slice from a DataFrame.\n",
      "Try using .loc[row_indexer,col_indexer] = value instead\n",
      "\n",
      "See the caveats in the documentation: https://pandas.pydata.org/pandas-docs/stable/user_guide/indexing.html#returning-a-view-versus-a-copy\n",
      "  all_state['branching ratio'] = BranchingRatios\n",
      "C:\\Users\\dmgame\\Documents\\SafronovaResearch\\LifetimesWebsite\\LoadInElement.py:645: SettingWithCopyWarning: \n",
      "A value is trying to be set on a copy of a slice from a DataFrame.\n",
      "Try using .loc[row_indexer,col_indexer] = value instead\n",
      "\n",
      "See the caveats in the documentation: https://pandas.pydata.org/pandas-docs/stable/user_guide/indexing.html#returning-a-view-versus-a-copy\n",
      "  all_state['Berr'] = BranchingRatioErrors\n",
      "C:\\Users\\dmgame\\Documents\\SafronovaResearch\\LifetimesWebsite\\LoadInElement.py:689: SettingWithCopyWarning: \n",
      "A value is trying to be set on a copy of a slice from a DataFrame.\n",
      "Try using .loc[row_indexer,col_indexer] = value instead\n",
      "\n",
      "See the caveats in the documentation: https://pandas.pydata.org/pandas-docs/stable/user_guide/indexing.html#returning-a-view-versus-a-copy\n",
      "  all_state['precise_wave'] = precise_wave\n",
      "C:\\Users\\dmgame\\Documents\\SafronovaResearch\\LifetimesWebsite\\LoadInElement.py:690: SettingWithCopyWarning: \n",
      "A value is trying to be set on a copy of a slice from a DataFrame.\n",
      "Try using .loc[row_indexer,col_indexer] = value instead\n",
      "\n",
      "See the caveats in the documentation: https://pandas.pydata.org/pandas-docs/stable/user_guide/indexing.html#returning-a-view-versus-a-copy\n",
      "  all_state['precise_Eerr'] = precise_Eerr\n",
      "C:\\Users\\dmgame\\Documents\\SafronovaResearch\\LifetimesWebsite\\LoadInElement.py:711: SettingWithCopyWarning: \n",
      "A value is trying to be set on a copy of a slice from a DataFrame.\n",
      "Try using .loc[row_indexer,col_indexer] = value instead\n",
      "\n",
      "See the caveats in the documentation: https://pandas.pydata.org/pandas-docs/stable/user_guide/indexing.html#returning-a-view-versus-a-copy\n",
      "  all_state['wavelength'] = new_wavelength\n",
      "C:\\Users\\dmgame\\Documents\\SafronovaResearch\\LifetimesWebsite\\LoadInElement.py:712: SettingWithCopyWarning: \n",
      "A value is trying to be set on a copy of a slice from a DataFrame.\n",
      "Try using .loc[row_indexer,col_indexer] = value instead\n",
      "\n",
      "See the caveats in the documentation: https://pandas.pydata.org/pandas-docs/stable/user_guide/indexing.html#returning-a-view-versus-a-copy\n",
      "  all_state['Eerr'] = new_wave_error\n"
     ]
    }
   ],
   "source": [
    "%run -i LoadInElement.py"
   ]
  },
  {
   "cell_type": "code",
   "execution_count": 5,
   "metadata": {},
   "outputs": [],
   "source": [
    "#tasks: \n",
    "#1 add * to nist modified data\n",
    "#2 mess with variable format so that rouding for save_copy does not occur twice, once to get it in 4 digits and once more for ()\n",
    "#2.5 change it so E is +04 instead, if the numbers is less than 10\n",
    "#3 compare numbers with Safronova, including lifetime\n",
    "#make a rough sketch of the website \"other data\" page"
   ]
  },
  {
   "cell_type": "code",
   "execution_count": 6,
   "metadata": {},
   "outputs": [],
   "source": [
    "#problem: branching ratio is Tr1/Sum(Trs), which is TR1 * lifetime. But lifetime changes"
   ]
  },
  {
   "cell_type": "code",
   "execution_count": 7,
   "metadata": {},
   "outputs": [],
   "source": [
    "# all_state.drop(['Initial_form', 'Decay_form'], axis = 1, inplace = True)"
   ]
  },
  {
   "cell_type": "code",
   "execution_count": 8,
   "metadata": {},
   "outputs": [],
   "source": [
    "\n",
    "# precise_wave = []\n",
    "# precise_Eerr = []\n",
    "# for i in range(len(all_state)): #saves new columns of all_state to be used in calculation, that aren't rounded yet\n",
    "#     precise_wave.append((1/(all_state.Ei[i] - all_state.Ef[i]))*10**7)\n",
    "#     precise_Eerr.append(Decimal(all_state.Eerr[i]))\n",
    "# all_state['precise_wave'] = precise_wave\n",
    "# all_state['precise_Eerr'] = precise_Eerr"
   ]
  },
  {
   "cell_type": "code",
   "execution_count": 9,
   "metadata": {},
   "outputs": [
    {
     "name": "stdout",
     "output_type": "stream",
     "text": [
      "No duplicated Errors, can run error calc2\n"
     ]
    }
   ],
   "source": [
    "duplicated_error = all_state[all_state.duplicated(['Terr'])]\n",
    "if len(duplicated_error) == 0:\n",
    "    print('No duplicated Errors, can run error calc2')\n",
    "else:\n",
    "    print('There are duplicated Transition rate Errors')\n",
    "    raise SystemExit(0)"
   ]
  },
  {
   "cell_type": "code",
   "execution_count": 10,
   "metadata": {},
   "outputs": [],
   "source": [
    "og_lifetimes = Lifetimes.copy()"
   ]
  },
  {
   "cell_type": "code",
   "execution_count": 11,
   "metadata": {},
   "outputs": [],
   "source": [
    "save_copy = all_state.copy() #used to display error formatted numbers in TR table on main page"
   ]
  },
  {
   "cell_type": "code",
   "execution_count": 12,
   "metadata": {},
   "outputs": [],
   "source": [
    "#BREAK"
   ]
  },
  {
   "cell_type": "code",
   "execution_count": 13,
   "metadata": {},
   "outputs": [],
   "source": [
    "#At this point:\n",
    "#Wavelength and Error are in nm\n",
    "#Transition Rate and Error are in s-1"
   ]
  },
  {
   "cell_type": "code",
   "execution_count": 14,
   "metadata": {},
   "outputs": [],
   "source": [
    "#Removes 'f' States and above\n",
    "for i in range(len(save_copy)-1, 0, -1):\n",
    "    if save_copy.Initial[i][1] >= 3:\n",
    "        save_copy.drop(i, axis = 0, inplace = True)"
   ]
  },
  {
   "cell_type": "code",
   "execution_count": 15,
   "metadata": {},
   "outputs": [],
   "source": [
    "#Removes 'f' States and above\n",
    "for i in range(len(Lifetimes)-1,0,-1): #counting backwards\n",
    "    if Lifetimes[i][0][1] >= 3:\n",
    "        del(Lifetimes[i])\n"
   ]
  },
  {
   "cell_type": "code",
   "execution_count": 17,
   "metadata": {},
   "outputs": [
    {
     "name": "stdout",
     "output_type": "stream",
     "text": [
      "28300.0000(8) 28300 (800) 2\n",
      "28300(800) 28295.394867894460441 80.064378192904172237831517122685909271240234375 80.0644\n"
     ]
    },
    {
     "data": {
      "text/plain": [
       "[('28300(800)', '6.26(37)E+04', '0.0229(14)')]"
      ]
     },
     "execution_count": 17,
     "metadata": {},
     "output_type": "execute_result"
    }
   ],
   "source": [
    "#this runs it on all_state and doesn't save to save_copy\n",
    "\n",
    "pattern = re.compile(r\"\\((\\d+)\\)\")\n",
    "holder = []\n",
    "diff_holder = []\n",
    "#for p in range(len(save_copy)):\n",
    "for p in range(279,280):\n",
    "    ini = all_state.Initial[p]\n",
    "    end = all_state.Decay[p]\n",
    "    test_val = all_state.precise_wave[p]\n",
    "    test_err = all_state.precise_Eerr[p]\n",
    "    if float(test_err) == 0:\n",
    "        value_wl = '%.4f' % test_val\n",
    "    else:\n",
    "        if float(all_state.wavelength[p]) and float(all_state.Eerr[p]) > 9.5: #need to avoid sci. notat\n",
    "            #len_figs = the difference between the digit placement of the number and its error. I.e. ####.## - ##.## will be 2\n",
    "            len_figs = len(str(test_val).split('.')[0]) - len(str(test_err).split('.')[0])\n",
    "\n",
    "            if float(test_err) < 10: #9.5-10 will round up to 1 and lose a zero digit\n",
    "                num_w = str(round(str(test_val), sigfigs = len_figs)).split('.')[0] #dont need to add one if it isnt double digits\n",
    "\n",
    "            else:\n",
    "                num_w = str(round(str(test_val), len_figs + 1)).split('.')[0]\n",
    "\n",
    "            s = to_one_dig(test_val, test_err)\n",
    "            num_e = s[s.find(\"(\")+1:s.find(\")\")] #number in parentheses\n",
    "            num_zeroes = len(num_w) - len(num_w.rstrip('0'))\n",
    "            num_e = '(' + num_e + '0'*num_zeroes + ')'\n",
    "            value_wl = num_w+num_e\n",
    "            print(s, num_w, num_e, num_zeroes)\n",
    "\n",
    "            #value_wl = s.split('(')[0] + num_e\n",
    "            #print(p, test_val, test_err, value_wl, num_zeroes, num_w)\n",
    "\n",
    "        else: #small enough to not use sci.not\n",
    "            one_dig = to_one_dig(test_val, test_err)\n",
    "            two_dig = round(test_val, test_err, format = 'Drake') \n",
    "\n",
    "            if test_err == 0: #if no error use 4 digit wavelength \n",
    "                value_wl = all_state.wavelength[p]\n",
    "\n",
    "            #if two dig has error something like (97), one_dig has error (1). It rounds to 10 but then cuts the 0, which appears wrong\n",
    "            #needs to be pushed up one digit spot. I.e. (2.45 (97) needs to be 2.5(1))\n",
    "            elif one_dig[one_dig.find(\"(\")+1:one_dig.find(\")\")][0] < two_dig[two_dig.find(\"(\")+1:two_dig.find(\")\")][0]: \n",
    "                left_sigfs = len(one_dig.split('(')[0][0:-1]) - 1 #rounding to one less digit instead of slicing for rounding\n",
    "                #Rounds original number to correct number of sig figs\n",
    "                value_wl = str(round(test_val, sigfigs = left_sigfs)) + '(' + one_dig[one_dig.find(\"(\")+1:one_dig.find(\")\")][0] + ')'  \n",
    "            #otherwise, standard case\n",
    "            else: \n",
    "                #print(test_val, test_err)\n",
    "                \n",
    "                #use the original error if the error is less than the .0001 cutoff, since otherwise error will not show up\n",
    "                if test_err < .0001:\n",
    "                    value_wl = to_one_dig_small(test_val, float(all_state.Eerr[p]))\n",
    "                else:\n",
    "                    value_wl = to_one_dig_small(test_val, test_err)\n",
    "                #value_wl = round(test_val, test_err, format = 'Drake', err_dig = 1)\n",
    "\n",
    "        \n",
    "        \n",
    "\n",
    "    value_tr = round(str(all_state['transition_rate s-1'][p]), str(all_state.Terr[p]), format = \"Drake\")\n",
    "    if 'E' in value_tr:\n",
    "        pass\n",
    "    else:\n",
    "        numt = \"{:E}\".format(Decimal(value_tr.split('(')[0])).split('E')\n",
    "        if float(numt[1]) < 10: #need to add '0' in front of value if exponent power is less than 10\n",
    "            value_tr = numt[0] + '(' + value_tr.split('(')[1] + 'E' + '+' + '0' + str(int(numt[1]))\n",
    "            \n",
    "        else:\n",
    "            value_tr = numt[0] + '(' + value_tr.split('(')[1] + 'E' + numt[1]\n",
    "    \n",
    "    value_br = round(str(all_state['branching ratio'][p]), str(all_state.Berr[p]), format = \"Drake\")\n",
    "    holder.append((value_wl, value_tr, value_br))\n",
    "print(value_wl, test_val, test_err, all_state['Eerr'][p])\n",
    "holder"
   ]
  },
  {
   "cell_type": "code",
   "execution_count": 22,
   "metadata": {},
   "outputs": [],
   "source": [
    "bf_format = save_copy.copy()"
   ]
  },
  {
   "cell_type": "code",
   "execution_count": 23,
   "metadata": {},
   "outputs": [
    {
     "name": "stderr",
     "output_type": "stream",
     "text": [
      "C:\\Users\\dmgame\\Documents\\SafronovaResearch\\LifetimesWebsite\\modsigfig.py:572: UserWarning: warning: 2 significant figures requested from number with only 1 significant figures\n",
      "  warn(\"warning: %d significant figures requested from number with only %d significant figures\" % (given['sigfigs'], len(num.map)))\n"
     ]
    }
   ],
   "source": [
    "#one to use if you haven't already modified save_copy\n",
    "pattern = re.compile(r\"\\((\\d+)\\)\")\n",
    "holder = []\n",
    "for p in range(len(save_copy)):\n",
    "#for p in range(0, 3):\n",
    "    ini = save_copy.Initial[p]\n",
    "    end = save_copy.Decay[p]\n",
    "    test_val = save_copy.precise_wave[p]\n",
    "    test_err = save_copy.precise_Eerr[p]\n",
    "    if float(test_err) == 0:\n",
    "        value_wl = '%.4f' % test_val\n",
    "    else:\n",
    "        if float(save_copy.wavelength[p]) and float(save_copy.Eerr[p]) > 9.5: #need to avoid sci. notat\n",
    "            #len_figs = the difference between the digit placement of the number and its error. I.e. ####.## - ##.## will be 2\n",
    "            len_figs = len(str(test_val).split('.')[0]) - len(str(test_err).split('.')[0])\n",
    "\n",
    "            if float(test_err) < 10: #9.5-10 will round up to 1 and lose a zero digit\n",
    "                num_w = str(round(str(test_val), sigfigs = len_figs)).split('.')[0] #dont need to add one if it isnt double digits\n",
    "\n",
    "            else:\n",
    "                num_w = str(round(str(test_val), len_figs + 1)).split('.')[0]\n",
    "            s = to_one_dig(test_val, test_err)\n",
    "            num_e = s[s.find(\"(\")+1:s.find(\")\")] #number in parentheses\n",
    "            num_zeroes = len(num_w) - len(num_w.rstrip('0'))\n",
    "            num_e = '(' + num_e + '0'*num_zeroes + ')'\n",
    "            value_wl = num_w+num_e\n",
    "            #value_wl = s.split('(')[0] + num_e\n",
    "            #print(p, test_val, test_err, value_wl, num_zeroes, num_w)\n",
    "\n",
    "        else: #small enough to not use sci.not\n",
    "            one_dig = to_one_dig(test_val, test_err)\n",
    "            two_dig = round(test_val, test_err, format = 'Drake') \n",
    "\n",
    "            if test_err == 0: #if no error use 4 digit wavelength \n",
    "                value_wl = all_state.wavelength[p]\n",
    "\n",
    "            #if two dig has error something like (97), one_dig has error (1). It rounds to 10 but then cuts the 0, which appears wrong\n",
    "            #needs to be pushed up one digit spot. I.e. (2.45 (97) needs to be 2.5(1))\n",
    "            elif one_dig[one_dig.find(\"(\")+1:one_dig.find(\")\")][0] < two_dig[two_dig.find(\"(\")+1:two_dig.find(\")\")][0]: \n",
    "                left_sigfs = len(one_dig.split('(')[0][0:-1]) - 1 #rounding to one less digit instead of slicing for rouding\n",
    "                #value_wl = round(one_dig.split('(')[0], sigfigs = left_sigfs) + '(' + one_dig[one_dig.find(\"(\")+1:one_dig.find(\")\")][0] + ')' #parentheses and number in parentheses\n",
    "                \n",
    "                #Rounds original number to correct number of sig figs\n",
    "                value_wl = str(round(test_val, sigfigs = left_sigfs)) + '(' + one_dig[one_dig.find(\"(\")+1:one_dig.find(\")\")][0] + ')'  \n",
    "            #otherwise, standard case\n",
    "            else: \n",
    "                if test_err < .0001:\n",
    "                    value_wl = to_one_dig_small(test_val, float(all_state.Eerr[p]))\n",
    "                else:\n",
    "                    value_wl = to_one_dig_small(test_val, test_err)\n",
    "\n",
    "        \n",
    "        \n",
    "\n",
    "    value_tr = round(str(save_copy['transition_rate s-1'][p]), str(save_copy.Terr[p]), format = \"Drake\")\n",
    "    if 'E' in value_tr:\n",
    "        pass\n",
    "    else:\n",
    "        numt = \"{:E}\".format(Decimal(value_tr.split('(')[0])).split('E')\n",
    "        if float(numt[1]) < 10: #need to add '0' in front of value if exponent power is less than 10\n",
    "            value_tr = numt[0] + '(' + value_tr.split('(')[1] + 'E' + '+' + '0' + str(int(numt[1]))\n",
    "            \n",
    "        else:\n",
    "            value_tr = numt[0] + '(' + value_tr.split('(')[1] + 'E' + numt[1]\n",
    "    \n",
    "    value_br = round(str(save_copy['branching ratio'][p]), str(save_copy.Berr[p]), format = \"Drake\")\n",
    "    holder.append((value_wl, value_tr, value_br))\n",
    "holder\n",
    "save_copy['wavelength'] = [i[0] for i in holder]\n",
    "save_copy['transition_rate s-1'] = [i[1] for i in holder]\n",
    "save_copy['branching ratio'] = [i[2] for i in holder]"
   ]
  },
  {
   "cell_type": "code",
   "execution_count": 24,
   "metadata": {},
   "outputs": [],
   "source": [
    "af_format = save_copy.copy()"
   ]
  },
  {
   "cell_type": "code",
   "execution_count": 27,
   "metadata": {},
   "outputs": [],
   "source": [
    "#changes out of scientific notation if the error in parentheses (###) could be 3 or less digits\n",
    "#transition rates\n",
    "\n",
    "for j, i in enumerate(save_copy['transition_rate s-1']):\n",
    "    if 'E' in i:\n",
    "        #print(i)\n",
    "        num_in_par = '(' + re.search('\\(([^)]+)', i).group(1) + ')' #number in parentheses\n",
    "        len_sfigs = len(i.split('(')[0]) - 1 #number of digits before expontial, minus the decimal point\n",
    "        float_num = round(i.replace(num_in_par, ''), sigfigs = len_sfigs) #number in float format\n",
    "        num_zeroes = len(str(i.split('.')[0])) - (len(num_in_par) - 2) #difference in original number digits - two error format digits\n",
    "        new_error = re.search('\\(([^)]+)', i).group(1) + '0'*num_zeroes #error with correct number of '0's\n",
    "        if len(new_error) > 4: #keep it in scientific notation if you have to go past 4 digits in error parentheses\n",
    "            save_copy.loc[j,'transition_rate s-1'] = float_num + '(' + new_error + ')'\n",
    "            print(new_error, float_num + '(' + new_error + ')')\n",
    "        else:\n",
    "            pass"
   ]
  },
  {
   "cell_type": "code",
   "execution_count": null,
   "metadata": {},
   "outputs": [],
   "source": [
    "#replaces scientific notation if the error number (###) is 3 or less digits. keeps if its 4 (####) or more\n",
    "for j, i in enumerate(Lifetimes.Lifetime):\n",
    "    if 'E' in i:\n",
    "        print(i)\n",
    "        num_in_par = '(' + re.search('\\(([^)]+)', i).group(1) + ')' #number in parentheses\n",
    "        len_sfigs = len(i.split('(')[0]) - 1 #number of digits before expontial, minus the decimal point\n",
    "        float_num = round(i.replace(num_in_par, ''), sigfigs = len_sfigs) #number in float format\n",
    "        num_zeroes = len(str(life_linear[j][2]*10**9).split('.')[0]) - (len(num_in_par) - 2) #difference in original number digits - two error format digits\n",
    "        new_error = re.search('\\(([^)]+)', i).group(1) + '0'*num_zeroes #error with correct number of '0's\n",
    "        if len(new_error) < 4: #keep it in scientific notation if you have to go past 4 digits in error parentheses\n",
    "            Lifetimes.loc[j,'Lifetime'] = float_num + '(' + new_error + ')'\n",
    "            print(j, float_num + '(' + new_error + ')')\n",
    "        else:\n",
    "            pass"
   ]
  },
  {
   "cell_type": "code",
   "execution_count": 28,
   "metadata": {},
   "outputs": [
    {
     "name": "stderr",
     "output_type": "stream",
     "text": [
      "d:\\python3\\lib\\site-packages\\pandas\\core\\frame.py:4125: SettingWithCopyWarning: \n",
      "A value is trying to be set on a copy of a slice from a DataFrame\n",
      "\n",
      "See the caveats in the documentation: https://pandas.pydata.org/pandas-docs/stable/user_guide/indexing.html#returning-a-view-versus-a-copy\n",
      "  return super().rename(\n"
     ]
    }
   ],
   "source": [
    "test = formatter(save_copy)\n",
    "save_copy = test"
   ]
  },
  {
   "cell_type": "code",
   "execution_count": 29,
   "metadata": {},
   "outputs": [],
   "source": [
    "Lifetime_excel = Lifetimes.copy()\n",
    "Lifetimes2 = Lifetimes.copy()"
   ]
  },
  {
   "cell_type": "code",
   "execution_count": 30,
   "metadata": {},
   "outputs": [],
   "source": [
    "tl1, tl2, tl3 = format_lifetime(Lifetimes, life_linear)\n",
    "Lifetimes = tl1\n",
    "Lifetime_excel = tl3"
   ]
  },
  {
   "cell_type": "code",
   "execution_count": 31,
   "metadata": {},
   "outputs": [],
   "source": [
    "df2 = pd.read_fwf(checklifesname, dtype = str)\n",
    "\n",
    "col_names = ['Transition',     'Wavelength',     'Matrix', 'Reference',    \n",
    "             'Br. ratio',  'Tran. rate',    'wave2',     'UncW', 'UncW %', 'Matrix el.', \n",
    "             'uncM', 'uncM %', 'Br2', 'uncB', 'uncB %', 'Tran2',  'UncT',   'UncT %'] \n",
    "             \n",
    "df = pd.read_fwf(checkratesname, header=None, dtype = str)\n",
    "df.columns = col_names\n",
    "keeptemp = df['Transition'].str.split(\" +\",expand = True)\n",
    "\n",
    "\n",
    "new_cols = ['Initial', 'Decay']\n",
    "for i in list(df.columns):\n",
    "    new_cols.append(i)\n",
    "df['Initial'] = keeptemp[0]\n",
    "df['Decay'] = keeptemp[1]\n",
    "df = df[new_cols]\n",
    "df.drop(0, axis = 0, inplace = True)\n",
    "df.drop(columns = ['Transition'], axis = 1, inplace = True)\n",
    "df.reset_index(drop = True, inplace = True)"
   ]
  },
  {
   "cell_type": "code",
   "execution_count": 32,
   "metadata": {},
   "outputs": [
    {
     "data": {
      "text/html": [
       "<div>\n",
       "<style scoped>\n",
       "    .dataframe tbody tr th:only-of-type {\n",
       "        vertical-align: middle;\n",
       "    }\n",
       "\n",
       "    .dataframe tbody tr th {\n",
       "        vertical-align: top;\n",
       "    }\n",
       "\n",
       "    .dataframe thead th {\n",
       "        text-align: right;\n",
       "    }\n",
       "</style>\n",
       "<table border=\"1\" class=\"dataframe\">\n",
       "  <thead>\n",
       "    <tr style=\"text-align: right;\">\n",
       "      <th></th>\n",
       "      <th>0</th>\n",
       "      <th>1</th>\n",
       "      <th>2</th>\n",
       "      <th>3</th>\n",
       "      <th>4</th>\n",
       "      <th>5</th>\n",
       "      <th>6</th>\n",
       "      <th>7</th>\n",
       "      <th>8</th>\n",
       "      <th>9</th>\n",
       "      <th>10</th>\n",
       "      <th>11</th>\n",
       "      <th>12</th>\n",
       "      <th>13</th>\n",
       "      <th>14</th>\n",
       "      <th>15</th>\n",
       "      <th>16</th>\n",
       "      <th>17</th>\n",
       "    </tr>\n",
       "  </thead>\n",
       "  <tbody>\n",
       "    <tr>\n",
       "      <th>328</th>\n",
       "      <td>10d5/2   5f7/2</td>\n",
       "      <td>2253(2)</td>\n",
       "      <td>.44008(72)</td>\n",
       "      <td>NaN</td>\n",
       "      <td>0.01495(23)</td>\n",
       "      <td>6.127(18)E+04</td>\n",
       "      <td>2253</td>\n",
       "      <td>2</td>\n",
       "      <td>0.09</td>\n",
       "      <td>1.44008</td>\n",
       "      <td>.00072</td>\n",
       "      <td>0.05</td>\n",
       "      <td>0.0149</td>\n",
       "      <td>0.0002</td>\n",
       "      <td>1.53</td>\n",
       "      <td>6.1274E+04</td>\n",
       "      <td>1.8E+02</td>\n",
       "      <td>0.29</td>\n",
       "    </tr>\n",
       "    <tr>\n",
       "      <th>329</th>\n",
       "      <td>10d5/2   6f5/2</td>\n",
       "      <td>5183(5)</td>\n",
       "      <td>1.3148(50)</td>\n",
       "      <td>NaN</td>\n",
       "      <td>.001023(18)</td>\n",
       "      <td>4.192(35)E+03</td>\n",
       "      <td>5183</td>\n",
       "      <td>5</td>\n",
       "      <td>0.10</td>\n",
       "      <td>1.3148</td>\n",
       "      <td>0.0050</td>\n",
       "      <td>0.38</td>\n",
       "      <td>0.00102</td>\n",
       "      <td>0.00001</td>\n",
       "      <td>1.72</td>\n",
       "      <td>4.1923E+03</td>\n",
       "      <td>3.5E+01</td>\n",
       "      <td>0.82</td>\n",
       "    </tr>\n",
       "  </tbody>\n",
       "</table>\n",
       "</div>"
      ],
      "text/plain": [
       "                 0        1           2    3            4              5   \\\n",
       "328  10d5/2   5f7/2  2253(2)  .44008(72)  NaN  0.01495(23)  6.127(18)E+04   \n",
       "329  10d5/2   6f5/2  5183(5)  1.3148(50)  NaN  .001023(18)  4.192(35)E+03   \n",
       "\n",
       "       6  7     8        9       10    11       12       13    14          15  \\\n",
       "328  2253  2  0.09  1.44008  .00072  0.05   0.0149   0.0002  1.53  6.1274E+04   \n",
       "329  5183  5  0.10   1.3148  0.0050  0.38  0.00102  0.00001  1.72  4.1923E+03   \n",
       "\n",
       "          16    17  \n",
       "328  1.8E+02  0.29  \n",
       "329  3.5E+01  0.82  "
      ]
     },
     "execution_count": 32,
     "metadata": {},
     "output_type": "execute_result"
    }
   ],
   "source": [
    "pd.read_fwf(checkratesname, header=None, dtype = str)[328:330]"
   ]
  },
  {
   "cell_type": "code",
   "execution_count": 33,
   "metadata": {},
   "outputs": [
    {
     "data": {
      "text/plain": [
       "[(263, 279, '28300(800)', '28300(80)', '28295.3949', '80.0644'),\n",
       " (298, 357, '488000(1000)', '88(1)E+05', '487567.0405', '1197.1355'),\n",
       " (330, 267, '17700(300)', '17700(30)', '17703.7619', '34.4771'),\n",
       " (337, 304, '187000(2000)', '187000(200)', '186975.3006', '176.0529'),\n",
       " (360, 325, '12800(200)', '12800(20)', '12802.2155', '16.3900')]"
      ]
     },
     "execution_count": 33,
     "metadata": {},
     "output_type": "execute_result"
    }
   ],
   "source": [
    "#Wavelengths\n",
    "diff_holdt = []\n",
    "for i in range(len(save_copy)):\n",
    "    t_ind = np.where((save_copy.Initial == df.Initial[i]) & (save_copy.Decay == df.Decay[i]))[0][0] #same transition\n",
    "    #print(save_copy['Wavelength (nm)'][t_ind], df['Wavelength'][i])\n",
    "    if holder[t_ind][0] == df.Wavelength[i]:\n",
    "        pass\n",
    "    else:\n",
    "        diff_holdt.append((i, t_ind, holder[t_ind][0], df.Wavelength[i], all_state.wavelength[t_ind], all_state.Eerr[t_ind]))\n",
    "diff_holdt"
   ]
  },
  {
   "cell_type": "code",
   "execution_count": 39,
   "metadata": {},
   "outputs": [
    {
     "data": {
      "text/plain": [
       "[(56, 56, '4.277(8)E37', '4.277(8)', 4.277, 0.008),\n",
       " (120, 57, '5.898(15)E37', '5.898(15)', 5.898, 0.015),\n",
       " (281,\n",
       "  309,\n",
       "  '11.5937(58)',\n",
       "  '1.5937(58)',\n",
       "  Decimal('11.5937180'),\n",
       "  Decimal('0.0057969')),\n",
       " (303,\n",
       "  359,\n",
       "  '15.7365(79)',\n",
       "  '5.7365(79)',\n",
       "  Decimal('15.7365020'),\n",
       "  Decimal('0.0078683')),\n",
       " (327,\n",
       "  273,\n",
       "  '1.44008(72)',\n",
       "  '.44008(72)',\n",
       "  Decimal('1.4400843'),\n",
       "  Decimal('0.0007200'))]"
      ]
     },
     "execution_count": 39,
     "metadata": {},
     "output_type": "execute_result"
    }
   ],
   "source": [
    "#should it be in range len(df)?\n",
    "#Matrices\n",
    "diff_holdt = []\n",
    "for i in range(len(save_copy)):\n",
    "    t_ind = np.where((save_copy.Initial == df.Initial[i]) & (save_copy.Decay == df.Decay[i]))[0][0] #same transition\n",
    "    #print(save_copy['Wavelength (nm)'][t_ind], df['Wavelength'][i])\n",
    "    if save_copy['Matrix element (a.u.)'][t_ind].lstrip('0').lstrip('.').lstrip('0') == df.Matrix[i].lstrip('0').lstrip('.').lstrip('0'):\n",
    "        pass\n",
    "    else:\n",
    "        diff_holdt.append((i, t_ind, save_copy['Matrix element (a.u.)'][t_ind], df.Matrix[i], all_state.matrix[t_ind], all_state.mat_unc[t_ind]))\n",
    "diff_holdt"
   ]
  },
  {
   "cell_type": "code",
   "execution_count": 40,
   "metadata": {},
   "outputs": [],
   "source": [
    "#only these values have a 1 in the far left position space of the columns. Need to change inferred column width?"
   ]
  },
  {
   "cell_type": "code",
   "execution_count": 41,
   "metadata": {},
   "outputs": [
    {
     "data": {
      "text/plain": [
       "[]"
      ]
     },
     "execution_count": 41,
     "metadata": {},
     "output_type": "execute_result"
    }
   ],
   "source": [
    "#Transition Rates\n",
    "diff_holdt = []\n",
    "for i in range(len(save_copy)):\n",
    "    t_ind = np.where((save_copy.Initial == df.Initial[i]) & (save_copy.Decay == df.Decay[i]))[0][0] #same transition\n",
    "    #print(save_copy['Wavelength (nm)'][t_ind], df['Wavelength'][i])\n",
    "    #print(holder[t_ind][2].lstrip('0').lstrip('.').lstrip('0'), df['Br. ratio'][i].lstrip('0').lstrip('.').lstrip('0'))\n",
    "    if holder[t_ind][1] == df['Tran. rate'][i]:\n",
    "        pass\n",
    "    else:\n",
    "        diff_holdt.append((i, t_ind, holder[t_ind][1], df['Tran. rate'][i], all_state['transition_rate s-1'][t_ind], all_state.Terr[t_ind]))\n",
    "diff_holdt"
   ]
  },
  {
   "cell_type": "code",
   "execution_count": 42,
   "metadata": {},
   "outputs": [
    {
     "data": {
      "text/plain": [
       "[]"
      ]
     },
     "execution_count": 42,
     "metadata": {},
     "output_type": "execute_result"
    }
   ],
   "source": [
    "#branching ratios\n",
    "diff_holdt = []\n",
    "for i in range(len(save_copy)):\n",
    "    t_ind = np.where((save_copy.Initial == df.Initial[i]) & (save_copy.Decay == df.Decay[i]))[0][0] #same transition\n",
    "    #print(save_copy['Wavelength (nm)'][t_ind], df['Wavelength'][i])\n",
    "    #print(holder[t_ind][2].lstrip('0').lstrip('.').lstrip('0'), df['Br. ratio'][i].lstrip('0').lstrip('.').lstrip('0'))\n",
    "    if holder[t_ind][2].lstrip('0').lstrip('.').lstrip('0') == df['Br. ratio'][i].lstrip('0').lstrip('.').lstrip('0'):\n",
    "        pass\n",
    "    else:\n",
    "        diff_holdt.append((i, t_ind, holder[t_ind][2], df['Br. ratio'][i], all_state['branching ratio'][t_ind], all_state.Berr[t_ind]))\n",
    "diff_holdt"
   ]
  },
  {
   "cell_type": "code",
   "execution_count": 44,
   "metadata": {},
   "outputs": [
    {
     "data": {
      "text/plain": [
       "[(7, (array([7], dtype=int64),), '29.45(11)*', '29.45(11)'),\n",
       " (15, (array([8], dtype=int64),), '21.02(11)*', '21.02(11)')]"
      ]
     },
     "execution_count": 44,
     "metadata": {},
     "output_type": "execute_result"
    }
   ],
   "source": [
    "#Lifetimes\n",
    "diff_holdt = []\n",
    "for i in range(len(df2)):\n",
    "    t_ind = np.where(Lifetimes.State == df2.State[i]) #same transition\n",
    "    #print(save_copy['Wavelength (nm)'][t_ind], df['Wavelength'][i])\n",
    "    #print(holder[t_ind][2].lstrip('0').lstrip('.').lstrip('0'), df['Br. ratio'][i].lstrip('0').lstrip('.').lstrip('0'))\n",
    "    if Lifetimes.Lifetime[t_ind[0][0]] == df2['Lifetime'][i]:\n",
    "        pass\n",
    "    else:\n",
    "        diff_holdt.append((i, t_ind, Lifetimes.Lifetime[t_ind[0][0]], df2['Lifetime'][i]))\n",
    "diff_holdt"
   ]
  },
  {
   "cell_type": "code",
   "execution_count": 45,
   "metadata": {},
   "outputs": [],
   "source": [
    "Life_holder = Lifetimes.copy()"
   ]
  },
  {
   "cell_type": "code",
   "execution_count": 46,
   "metadata": {},
   "outputs": [],
   "source": [
    "#LOOK AT THIS"
   ]
  },
  {
   "cell_type": "code",
   "execution_count": 48,
   "metadata": {},
   "outputs": [],
   "source": [
    "# save_copy.to_csv('Transition_Formatted.txt', sep='\\t', index = False)\n",
    "# Lifetimes.to_csv('Lifetime_Formatted.txt', sep='\\t', index = False)"
   ]
  },
  {
   "cell_type": "code",
   "execution_count": 49,
   "metadata": {},
   "outputs": [],
   "source": [
    "#excel copy is the version that will be saved when they click \"excel\"\n",
    "# excel_copy = all_state.copy()\n",
    "# for i in range(len(excel_copy)-1, 0, -1):\n",
    "#     if excel_copy.Initial[i][1] >= 3:\n",
    "#         excel_copy.drop(i, axis = 0, inplace = True)\n",
    "# excel_copy['Initial'] = save_copy['Initial']\n",
    "# excel_copy['Decay'] = save_copy['Decay']\n",
    "# excel_copy.drop(['Ei', 'Ef', 'Ei_unc', 'Ef_unc', 'mat_werr', 'old_unc', 'n', 'l', 's'], axis = 1, inplace = True)\n",
    "# excel_copy.rename(columns = {'matrix': 'Matrix Element (a.u.)', \n",
    "#                              'mat_unc': 'Matrix Error', 'wavelength': 'Wavelength (nm)', 'Eerr': 'Wavelength Error',\n",
    "#                              'transition_rate s-1': 'Transition Rate (Hz)', 'Terr': 'Transition Rate Error',\n",
    "#                             'branching ratio': \"Branching Ratio\", 'Berr': \"Branching Ratio Error\"}, inplace = True)\n",
    "#excel_copy['Wavelength (nm)'] = excel_copy['Wavelength (nm)']*10**7 #nm conversion\n",
    "#excel_copy"
   ]
  },
  {
   "cell_type": "code",
   "execution_count": 50,
   "metadata": {},
   "outputs": [],
   "source": [
    "# #no_errors is the version that will be shown when they click \"all\"\n",
    "# no_errors = save_copy.copy()\n",
    "# matrixx = []\n",
    "# wavell = []\n",
    "# transrr = []\n",
    "# branchh = []\n",
    "# for i in range(len(no_errors)):\n",
    "#     matrixx.append(no_errors['Matrix element (a.u.)'][i].split('(')[0])\n",
    "#     wavell.append(no_errors['Wavelength (nm)'][i].split('(')[0])\n",
    "#     transrr.append(no_errors['Transition Rate (s-1)'][i].split('(')[0] + no_errors['Transition Rate (s-1)'][i].split(')')[1])\n",
    "#     branchh.append(no_errors['Branching ratio'][i].split('(')[0])\n",
    "# no_errors['Matrix element (a.u.)'] = matrixx\n",
    "# no_errors['Wavelength (nm)'] = wavell\n",
    "# no_errors['Transition Rate (s-1)'] = transrr\n",
    "# no_errors['Branching ratio'] = branchh\n",
    "#no_errors"
   ]
  },
  {
   "cell_type": "code",
   "execution_count": 51,
   "metadata": {},
   "outputs": [],
   "source": [
    "#sanity check that no branching ratio is greater than 1\n",
    "for i,j in enumerate(no_errors['Branching ratio']):\n",
    "    if float(j) > 1: \n",
    "        print(i, j, no_errors['Initial'][i], no_errors['Decay'][i], 'BRANCHING RATIO > 1!')\n",
    "        break"
   ]
  },
  {
   "cell_type": "code",
   "execution_count": 52,
   "metadata": {},
   "outputs": [],
   "source": [
    "# Br_not_sci = [] #to get branching ratios out of scientific notation in html\n",
    "# Brer_not_sci = []\n",
    "# for i in range(len(excel_copy)):\n",
    "#     Br_not_sci.append(str(excel_copy['Branching Ratio'][i]))\n",
    "#     Brer_not_sci.append(str(excel_copy['Branching Ratio Error'][i]))\n",
    "# excel_copy['Branching Ratio'] = Br_not_sci\n",
    "# excel_copy['Branching Ratio Error'] = Brer_not_sci"
   ]
  },
  {
   "cell_type": "code",
   "execution_count": 79,
   "metadata": {},
   "outputs": [
    {
     "ename": "NameError",
     "evalue": "name 't_scifi' is not defined",
     "output_type": "error",
     "traceback": [
      "\u001b[1;31m---------------------------------------------------------------------------\u001b[0m",
      "\u001b[1;31mNameError\u001b[0m                                 Traceback (most recent call last)",
      "\u001b[1;32m~\\Documents\\SafronovaResearch\\LifetimesWebsite\\LoadInElement.py\u001b[0m in \u001b[0;36m<module>\u001b[1;34m\u001b[0m\n\u001b[1;32m----> 1\u001b[1;33m \u001b[0mt_scifi2\u001b[0m \u001b[1;33m=\u001b[0m \u001b[0mpd\u001b[0m\u001b[1;33m.\u001b[0m\u001b[0mDataFrame\u001b[0m\u001b[1;33m(\u001b[0m\u001b[0mt_scifi\u001b[0m\u001b[1;33m)\u001b[0m\u001b[1;33m\u001b[0m\u001b[1;33m\u001b[0m\u001b[0m\n\u001b[0m",
      "\u001b[1;31mNameError\u001b[0m: name 't_scifi' is not defined"
     ]
    }
   ],
   "source": [
    "#t_scifi2 = pd.DataFrame(t_scifi)\n",
    "# html5 = t_scifi2.to_html(index = False)\n",
    "# with open('t_scifi2.html', 'w') as fo:\n",
    "#     fo.write(html5)"
   ]
  },
  {
   "cell_type": "code",
   "execution_count": null,
   "metadata": {
    "scrolled": true
   },
   "outputs": [],
   "source": [
    "html = save_copy.to_html(index = False)\n",
    "html2 = Lifetimes.to_html(index = False)\n",
    "html3 = no_errors.to_html(index = False)\n",
    "html4 = excel_copy.to_html(index = False)\n",
    "#print(html)"
   ]
  },
  {
   "cell_type": "code",
   "execution_count": null,
   "metadata": {},
   "outputs": [],
   "source": [
    "sub_scripts = ['1/2', '3/2', '5/2', '7/2', '9/2', '11/2']\n",
    "htmls = [html, html2, html3, html4] #save_copy, Lifetimes, no_error, excel_copy\n",
    "for i in sub_scripts:\n",
    "    for j, k in enumerate(htmls):\n",
    "        htmls[j] = htmls[j].replace('%s' % i, '<sub>%s</sub>' % i)"
   ]
  },
  {
   "cell_type": "code",
   "execution_count": null,
   "metadata": {},
   "outputs": [],
   "source": [
    "with open('save_copy.html', 'w') as fo:\n",
    "    fo.write(htmls[0])"
   ]
  },
  {
   "cell_type": "code",
   "execution_count": null,
   "metadata": {},
   "outputs": [],
   "source": [
    "with open('Lifetimes.html', 'w') as fo:\n",
    "    fo.write(htmls[1])"
   ]
  },
  {
   "cell_type": "code",
   "execution_count": null,
   "metadata": {},
   "outputs": [],
   "source": [
    "with open('no_errors.html', 'w') as fo:\n",
    "    fo.write(htmls[2])"
   ]
  },
  {
   "cell_type": "code",
   "execution_count": null,
   "metadata": {},
   "outputs": [],
   "source": [
    "with open('excel_copy.html', 'w') as fo:\n",
    "    fo.write(htmls[3])"
   ]
  },
  {
   "cell_type": "code",
   "execution_count": null,
   "metadata": {},
   "outputs": [],
   "source": [
    "#my code goes has 9p1/2 to 7s1/2 before 9p1/2 to 6s1/2\n",
    "# nsi = []\n",
    "# lsi = []\n",
    "# ssi = []\n",
    "# nsd = []\n",
    "# lsd = []\n",
    "# ssd = []\n",
    "# for i in range(len(all_state)):\n",
    "#     ns.append(all_state.Initial[])"
   ]
  },
  {
   "cell_type": "code",
   "execution_count": null,
   "metadata": {},
   "outputs": [],
   "source": [
    "#if the error is .0099\n",
    "#roudning of the number\n",
    "#branching ratio need to be changed?\n",
    "#sometimes experimental is uppercase\n",
    "#make zero zero wavelength to sci. Notation\n",
    "#codes are in 2020Auto\\Codes\\IRbis\\rates.f\n",
    "#fortran add ',' in format step (a6, ',')\n",
    "#add stars to wavelength \n",
    "#lifetimes in experimental file are all ns, in future they may be in seconds\n",
    "#make rates\n",
    "#copy make file, needs both of experimental files in directory\n",
    "#./rates\n",
    "#use rates1 and rate2"
   ]
  },
  {
   "cell_type": "code",
   "execution_count": 54,
   "metadata": {},
   "outputs": [
    {
     "data": {
      "text/plain": [
       "'28300(8)'"
      ]
     },
     "execution_count": 54,
     "metadata": {},
     "output_type": "execute_result"
    }
   ],
   "source": [
    "def to_one_dig(wavelength, error):\n",
    "    \"\"\"\n",
    "    \"takes in a wavelength and error and uses it to produce ####(#) format\"\n",
    "    \"could possibly be used to do a different number of (###) digits\"\n",
    "    \"\"\"\n",
    "    wavelength = wavelength\n",
    "    error = error\n",
    "#     original = round(wavelength, error, format = 'Drake') #number with 2 err_dig and ()   \n",
    "#     og_err = pattern.findall(original)[0] #just the error if it has one\n",
    "#     new_err = round(og_err, sigfigs = 1)[0]\n",
    "        \n",
    "#     og_num = original.split('(')[0] #just the number  \n",
    "#     if 'E' in original:\n",
    "#         err_in_paren = re.search('\\(([^)]+)', original).group(1)\n",
    "#         og_num = str(float(original.replace('(%s)' % err_in_paren, '' ))) #gets it out of scientific notation and back into str\n",
    "#     new_sfigs = len(og_num.replace('.', '')) - 1 #how many digits new 1 number should have\n",
    "#     new_num = round(wavelength, sigfigs = new_sfigs) #number moved back one sig fig\n",
    "\n",
    "#     try:\n",
    "\n",
    "        \n",
    "#         num_deci = len(og_num.split('.')[1]) - 1\n",
    "#     except IndexError:\n",
    "#         num_deci = new_sfigs\n",
    "#     deci_format = \"%%.%sf\" % num_deci\n",
    "#     new_num = deci_format % new_num\n",
    "#     #if you want to use scientific notation, keep original as round(wavelength, error, format = 'Drake')\n",
    "\n",
    "#     final_value = new_num + '(' + new_err + ')'\n",
    "    ###########\n",
    "    numb = round(wavelength, error).split('±')[0]\n",
    "    erb = round(wavelength, error, format = 'Drake')\n",
    "    erb = re.search('\\(([^)]+)', erb).group(1)\n",
    "    dig1 = round(erb, sigfigs = 1)[0]\n",
    "    final_value = numb + '(' + dig1 + ')'\n",
    "    ###############\n",
    "    if float(error) == 0:\n",
    "        final_value = wavelength\n",
    "    return final_value\n"
   ]
  },
  {
   "cell_type": "code",
   "execution_count": null,
   "metadata": {},
   "outputs": [],
   "source": [
    "Everything is working, except for the thing being read in wrong"
   ]
  },
  {
   "cell_type": "code",
   "execution_count": 76,
   "metadata": {},
   "outputs": [],
   "source": [
    "lst1 = [(5, 2, '4968(1)', '4968.5(1)', '4968.4652', '0.0992'),\n",
    " (49, 45, '4399(1)', '4398.7(1)', '4398.7464', '0.0974'),\n",
    " (116, 186, '4368(1)', '4367.9(1)', '4367.8556', '0.0963'),\n",
    " (205, 197, '4367(1)', '4367.4(1)', '4367.4359', '0.0963'),\n",
    " (263, 279, '28300(800)', '28300(80)', '28295.3949', '80.0644'),\n",
    " (270, 317, '4362(1)', '4362.4(1)', '4362.3813', '0.0958'),\n",
    " (298, 357, '488000(1000)', '88(1)E+05', '487567.0405', '1197.1355'),\n",
    " (330, 267, '17700(300)', '17700(30)', '17703.7619', '34.4771'),\n",
    " (337, 304, '187000(2000)', '187000(200)', '186975.3006', '176.0529'),\n",
    " (360, 325, '12800(200)', '12800(20)', '12802.2155', '16.3900')]\n",
    "# for p in range(279,280):\n",
    "#     ini = all_state.Initial[p]\n",
    "#     end = all_state.Decay[p]\n",
    "#     test_val = all_state.precise_wave[p]\n",
    "#     test_err = all_state.precise_Eerr[p]\n",
    "# for i in lst1:\n",
    "#     test_val = all_state.precise_wave[i[1]]\n",
    "#     test_err = all_state.precise_Eerr[i[1]]\n",
    "holder = []\n",
    "for p in range(len(all_state)):\n",
    "#for p in range(167, 168):\n",
    "    test_val = all_state.precise_wave[p]\n",
    "    test_err = all_state.precise_Eerr[p]\n",
    "    \n",
    "    if float(test_err) == 0:\n",
    "        value_wl = '%.4f' % test_val\n",
    "    else:\n",
    "        #condition 1 is for wavleenghts and Errors > 9.5\n",
    "        if float(all_state.wavelength[p]) and float(all_state.Eerr[p]) > 9.5: #need to avoid sci. notat\n",
    "            #len_figs = the difference between the digit placement of the number and its error. I.e. ####.## - ##.## will be 2\n",
    "            len_figs = len(str(test_val).split('.')[0]) - len(str(test_err).split('.')[0])\n",
    "\n",
    "            if float(test_err) < 10: #9.5-10 will round up to 1 and lose a zero digit\n",
    "                num_w = str(round(str(test_val), sigfigs = len_figs)).split('.')[0] #dont need to add one if it isnt double digits\n",
    "                added_digit = 1\n",
    "            else:\n",
    "                num_w = str(round(str(test_val), len_figs + 1)).split('.')[0]\n",
    "                added_digit = 0\n",
    "    \n",
    "            #number of zeroes is length of digits to the left of the decimal in the error, subtracted by 1\n",
    "            if float(test_err) > 1: \n",
    "                numb = round(test_val, test_err).split('±')[0]\n",
    "                erb = round(test_val, test_err, format = 'Drake')\n",
    "                erb = re.search('\\(([^)]+)', erb).group(1)\n",
    "                num_zeroes = len(str(test_err).split('.')[0]) - 1 + added_digit\n",
    "                num_e = '(' + round(erb, sigfigs = 1)[0] + '0'*num_zeroes + ')'\n",
    "                value_wl = num_w + num_e\n",
    "            else:\n",
    "                value_wl = to_one_dig(test_val, test_err) \n",
    "        #condition 2 is for Errors smaller than 9.5\n",
    "        else: #small enough to not use sci.not\n",
    "            one_dig = to_one_dig(test_val, test_err)\n",
    "            two_dig = round(test_val, test_err, format = 'Drake') \n",
    "\n",
    "            if test_err == 0: #if no error use 4 digit wavelength \n",
    "                value_wl = all_state.wavelength[p]\n",
    "\n",
    "            #if two dig has error something like (97), one_dig has error (1). It rounds to 10 but then cuts the 0, which appears wrong\n",
    "            #needs to be pushed up one digit spot. I.e. (2.45 (97) needs to be 2.5(1))\n",
    "            elif one_dig[one_dig.find(\"(\")+1:one_dig.find(\")\")][0] < two_dig[two_dig.find(\"(\")+1:two_dig.find(\")\")][0]: \n",
    "                \n",
    "#                 left_sigfs = len(one_dig.split('(')[0][0:-1]) - 1 #rounding to one less digit instead of slicing for rounding\n",
    "#                 #Rounds original number to correct number of sig figs\n",
    "#                 value_wl = str(round(test_val, sigfigs = left_sigfs)) + '(' + one_dig[one_dig.find(\"(\")+1:one_dig.find(\")\")][0] + ')'  \n",
    "                value_wl = one_dig\n",
    "    \n",
    "            #otherwise, standard case\n",
    "            else:\n",
    "                #use the original error if the error is less than the .0001 cutoff, since otherwise error will not show up\n",
    "                if test_err < .00005:\n",
    "                    value_wl = all_state.wavelength[p]\n",
    "                    #code breaks if you pass in 0 error\n",
    "                #smaller than .0001, needs to round to 4 digits\n",
    "                elif test_err < .0001:\n",
    "                    value_wl = to_one_dig(test_val, '%.4f' % test_err)\n",
    "                #any other normal case error\n",
    "                else:\n",
    "                    value_wl = to_one_dig_small(test_val, test_err)\n",
    "                    \n",
    "    value_tr = round(str(all_state['transition_rate s-1'][p]), str(all_state.Terr[p]), format = \"Drake\")\n",
    "    if 'E' in value_tr:\n",
    "        pass\n",
    "    else:\n",
    "        numt = \"{:E}\".format(Decimal(value_tr.split('(')[0])).split('E')\n",
    "        if float(numt[1]) < 10: #need to add '0' in front of value if exponent power is less than 10\n",
    "            value_tr = numt[0] + '(' + value_tr.split('(')[1] + 'E' + '+' + '0' + str(int(numt[1]))\n",
    "            \n",
    "        else:\n",
    "            value_tr = numt[0] + '(' + value_tr.split('(')[1] + 'E' + numt[1]\n",
    "    \n",
    "    value_br = round(str(all_state['branching ratio'][p]), str(all_state.Berr[p]), format = \"Drake\")\n",
    "    holder.append((value_wl, value_tr, value_br))"
   ]
  },
  {
   "cell_type": "code",
   "execution_count": 77,
   "metadata": {},
   "outputs": [
    {
     "data": {
      "text/plain": [
       "[(298, 357, '488000(1000)', '88(1)E+05', '487567.0405', '1197.1355')]"
      ]
     },
     "execution_count": 77,
     "metadata": {},
     "output_type": "execute_result"
    }
   ],
   "source": [
    "diff_holdt = []\n",
    "for i in range(len(save_copy)):\n",
    "    t_ind = np.where((save_copy.Initial == df.Initial[i]) & (save_copy.Decay == df.Decay[i]))[0][0] #same transition\n",
    "    #print(save_copy['Wavelength (nm)'][t_ind], df['Wavelength'][i])\n",
    "    if holder[t_ind][0] == df.Wavelength[i]:\n",
    "        pass\n",
    "    else:\n",
    "        diff_holdt.append((i, t_ind, holder[t_ind][0], df.Wavelength[i], all_state.wavelength[t_ind], all_state.Eerr[t_ind]))\n",
    "diff_holdt"
   ]
  }
 ],
 "metadata": {
  "kernelspec": {
   "display_name": "Python 3",
   "language": "python",
   "name": "python3"
  },
  "language_info": {
   "codemirror_mode": {
    "name": "ipython",
    "version": 3
   },
   "file_extension": ".py",
   "mimetype": "text/x-python",
   "name": "python",
   "nbconvert_exporter": "python",
   "pygments_lexer": "ipython3",
   "version": "3.8.1"
  }
 },
 "nbformat": 4,
 "nbformat_minor": 4
}
