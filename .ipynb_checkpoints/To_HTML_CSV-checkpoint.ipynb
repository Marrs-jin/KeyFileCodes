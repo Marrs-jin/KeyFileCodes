{
 "cells": [
  {
   "cell_type": "code",
   "execution_count": 1,
   "metadata": {
    "collapsed": true
   },
   "outputs": [
    {
     "ename": "NameError",
     "evalue": "name 'all_state' is not defined",
     "output_type": "error",
     "traceback": [
      "\u001b[1;31m---------------------------------------------------------------------------\u001b[0m",
      "\u001b[1;31mNameError\u001b[0m                                 Traceback (most recent call last)",
      "\u001b[1;32m<ipython-input-1-d8caaea2be10>\u001b[0m in \u001b[0;36m<module>\u001b[1;34m\u001b[0m\n\u001b[0;32m      1\u001b[0m \u001b[1;31m#table to be used in excel, has more error places.\u001b[0m\u001b[1;33m\u001b[0m\u001b[1;33m\u001b[0m\u001b[1;33m\u001b[0m\u001b[0m\n\u001b[1;32m----> 2\u001b[1;33m \u001b[0mexcel_copy\u001b[0m \u001b[1;33m=\u001b[0m \u001b[0mall_state\u001b[0m\u001b[1;33m.\u001b[0m\u001b[0mcopy\u001b[0m\u001b[1;33m(\u001b[0m\u001b[1;33m)\u001b[0m\u001b[1;33m\u001b[0m\u001b[1;33m\u001b[0m\u001b[0m\n\u001b[0m\u001b[0;32m      3\u001b[0m \u001b[1;31m#drops the f states\u001b[0m\u001b[1;33m\u001b[0m\u001b[1;33m\u001b[0m\u001b[1;33m\u001b[0m\u001b[0m\n\u001b[0;32m      4\u001b[0m \u001b[1;32mfor\u001b[0m \u001b[0mi\u001b[0m \u001b[1;32min\u001b[0m \u001b[0mrange\u001b[0m\u001b[1;33m(\u001b[0m\u001b[0mlen\u001b[0m\u001b[1;33m(\u001b[0m\u001b[0mexcel_copy\u001b[0m\u001b[1;33m)\u001b[0m\u001b[1;33m-\u001b[0m\u001b[1;36m1\u001b[0m\u001b[1;33m,\u001b[0m \u001b[1;36m0\u001b[0m\u001b[1;33m,\u001b[0m \u001b[1;33m-\u001b[0m\u001b[1;36m1\u001b[0m\u001b[1;33m)\u001b[0m\u001b[1;33m:\u001b[0m\u001b[1;33m\u001b[0m\u001b[1;33m\u001b[0m\u001b[0m\n\u001b[0;32m      5\u001b[0m     \u001b[1;32mif\u001b[0m \u001b[0mexcel_copy\u001b[0m\u001b[1;33m.\u001b[0m\u001b[0mInitial\u001b[0m\u001b[1;33m[\u001b[0m\u001b[0mi\u001b[0m\u001b[1;33m]\u001b[0m\u001b[1;33m[\u001b[0m\u001b[1;36m1\u001b[0m\u001b[1;33m]\u001b[0m \u001b[1;33m>=\u001b[0m \u001b[1;36m3\u001b[0m\u001b[1;33m:\u001b[0m\u001b[1;33m\u001b[0m\u001b[1;33m\u001b[0m\u001b[0m\n",
      "\u001b[1;31mNameError\u001b[0m: name 'all_state' is not defined"
     ]
    }
   ],
   "source": [
    "#table to be used in excel, has more error places. \n",
    "excel_copy = all_state.copy()\n",
    "\n",
    "#drops calculation columns\n",
    "excel_copy.drop(['Ei', 'Ef', 'Ei_unc', 'Ef_unc', 'mat_werr'], axis = 1, inplace = True)\n",
    "excel_copy.rename(columns = {'matrix': 'Matrix Element (a.u.)', \n",
    "                             'mat_unc': 'Matrix Error', 'wavelength': 'Wavelength (nm)', 'Eerr': 'Wavelength Error',\n",
    "                             'transition_rate s-1': 'Transition Rate (s-1)', 'Terr': 'Transition Rate Error',\n",
    "                            'branching ratio': \"Branching Ratio\", 'Berr': \"Branching Ratio Error\"}, inplace = True)\n",
    "excel_copy.drop([ 'precise_wave', 'precise_Eerr'], axis = 1, inplace = True)\n",
    "\n",
    "#reorder to put modification after wavelength error, then rename\n",
    "excel_copy = excel_copy[['Initial', 'Decay', 'NameI', 'NameF', 'Matrix Element (a.u.)', 'Matrix Error', \n",
    "       'Wavelength (nm)', 'Wavelength Error', 'modif', 'Transition Rate (s-1)',\n",
    "       'Transition Rate Error', 'Branching Ratio', 'Branching Ratio Error']]\n",
    "excel_copy.rename(columns = {'modif': 'Flag'}, inplace = True)\n"
   ]
  },
  {
   "cell_type": "code",
   "execution_count": null,
   "metadata": {},
   "outputs": [],
   "source": [
    "#to get branching ratios out of scientific notation in html\n",
    "Br_not_sci = [] \n",
    "Brer_not_sci = []\n",
    "for i in range(len(excel_copy)):\n",
    "    Br_not_sci.append(str(excel_copy['Branching Ratio'][i]))\n",
    "    Brer_not_sci.append(str(excel_copy['Branching Ratio Error'][i]))\n",
    "excel_copy['Branching Ratio'] = Br_not_sci\n",
    "excel_copy['Branching Ratio Error'] = Brer_not_sci"
   ]
  },
  {
   "cell_type": "code",
   "execution_count": null,
   "metadata": {},
   "outputs": [],
   "source": [
    "#Gets rid of \"Flag columns\"\n",
    "Flags = excel_copy['Flag']\n",
    "excel_copy.drop(columns = {'Flag'}, inplace = True)"
   ]
  },
  {
   "cell_type": "code",
   "execution_count": null,
   "metadata": {},
   "outputs": [],
   "source": [
    "#going to have html replaced for Initial, Final, drop NameI, NameF\n",
    "save_html = save_copy.copy() \n",
    "save_html['Initial'] = save_copy.merge(state_keys, left_on='Initial', right_on='key')['html']\n",
    "save_html['Decay'] = save_copy.merge(state_keys, left_on='Decay', right_on='key')['html']\n",
    "save_html.drop(columns = ['NameI'], axis = 1, inplace = True)\n",
    "save_html.drop(columns = ['NameF'], axis = 1, inplace = True)"
   ]
  },
  {
   "cell_type": "code",
   "execution_count": null,
   "metadata": {},
   "outputs": [],
   "source": [
    "#no_errors is the version that will be shown when they click \"all\"\n",
    "no_errors = save_html.copy()\n",
    "matrixx = []\n",
    "wavell = []\n",
    "transrr = []\n",
    "branchh = []\n",
    "for i in range(len(no_errors)):\n",
    "    matrixx.append(no_errors['Matrix element (a.u.)'][i].split('(')[0])\n",
    "    wavell.append(no_errors['Wavelength (nm)'][i].split('(')[0])\n",
    "    transrr.append(no_errors['Transition Rate (s-1)'][i].split('(')[0] + no_errors['Transition Rate (s-1)'][i].split(')')[1])\n",
    "    branchh.append(no_errors['Branching ratio'][i].split('(')[0])\n",
    "no_errors['Matrix element (a.u.)'] = matrixx\n",
    "no_errors['Wavelength (nm)'] = wavell\n",
    "no_errors['Transition Rate (s-1)'] = transrr\n",
    "no_errors['Branching ratio'] = branchh"
   ]
  },
  {
   "cell_type": "code",
   "execution_count": null,
   "metadata": {},
   "outputs": [],
   "source": [
    "Lifetimes_html = Lifetimes.copy()\n",
    "Lifetimes_html['State'] = Lifetimes.merge(state_keys, left_on = 'key', right_on = 'key')['html']\n",
    "Lifetimes_html.drop(columns = ['key'], axis = 1, inplace = True)"
   ]
  },
  {
   "cell_type": "code",
   "execution_count": null,
   "metadata": {},
   "outputs": [],
   "source": [
    "#changes to HTML tabular format\n",
    "html = save_html.to_html(index = False)\n",
    "html2 = Lifetimes_html.to_html(index = False)\n",
    "html3 = no_errors.to_html(index = False)\n",
    "htmls = [html, html2, html3]"
   ]
  },
  {
   "cell_type": "code",
   "execution_count": null,
   "metadata": {},
   "outputs": [],
   "source": [
    "#to_html produces artifacts for sup, sup. Needs to be replaced\n",
    "for i in range(len(htmls)):\n",
    "    htmls[i] = htmls[i].replace('&lt;sup&gt;', '<sup>')\n",
    "    htmls[i] = htmls[i].replace('&lt;/sup&gt;', '</sup>')\n",
    "    htmls[i] = htmls[i].replace('&lt;sub&gt;', '<sub>')\n",
    "    htmls[i] = htmls[i].replace('&lt;/sub&gt;', '</sub>')\n",
    "    htmls[i] = htmls[i].replace('NaN', \"\")"
   ]
  }
 ],
 "metadata": {
  "kernelspec": {
   "display_name": "Python 3",
   "language": "python",
   "name": "python3"
  },
  "language_info": {
   "codemirror_mode": {
    "name": "ipython",
    "version": 3
   },
   "file_extension": ".py",
   "mimetype": "text/x-python",
   "name": "python",
   "nbconvert_exporter": "python",
   "pygments_lexer": "ipython3",
   "version": "3.8.1"
  }
 },
 "nbformat": 4,
 "nbformat_minor": 4
}
